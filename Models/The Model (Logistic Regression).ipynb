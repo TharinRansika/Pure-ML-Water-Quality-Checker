{
 "cells": [
  {
   "cell_type": "markdown",
   "id": "54846cb6",
   "metadata": {},
   "source": [
    "# Import Relevant Packages, Classes and Functions"
   ]
  },
  {
   "cell_type": "code",
   "execution_count": 1,
   "id": "a3967f77",
   "metadata": {},
   "outputs": [],
   "source": [
    "import pandas as pd\n",
    "import numpy as np\n",
    "from sklearn.model_selection import train_test_split\n",
    "from sklearn.preprocessing import MinMaxScaler"
   ]
  },
  {
   "cell_type": "markdown",
   "id": "c3f3fdef",
   "metadata": {},
   "source": [
    "# Import Dataset"
   ]
  },
  {
   "cell_type": "code",
   "execution_count": 2,
   "id": "e72fd41f",
   "metadata": {},
   "outputs": [],
   "source": [
    "raw_data=pd.read_csv(\"Outliers Removed Dataset.csv\",sep=\",\")"
   ]
  },
  {
   "cell_type": "code",
   "execution_count": 3,
   "id": "28f735f4",
   "metadata": {},
   "outputs": [
    {
     "data": {
      "text/html": [
       "<div>\n",
       "<style scoped>\n",
       "    .dataframe tbody tr th:only-of-type {\n",
       "        vertical-align: middle;\n",
       "    }\n",
       "\n",
       "    .dataframe tbody tr th {\n",
       "        vertical-align: top;\n",
       "    }\n",
       "\n",
       "    .dataframe thead th {\n",
       "        text-align: right;\n",
       "    }\n",
       "</style>\n",
       "<table border=\"1\" class=\"dataframe\">\n",
       "  <thead>\n",
       "    <tr style=\"text-align: right;\">\n",
       "      <th></th>\n",
       "      <th>ph</th>\n",
       "      <th>Hardness</th>\n",
       "      <th>Solids</th>\n",
       "      <th>Chloramines</th>\n",
       "      <th>Sulfate</th>\n",
       "      <th>Conductivity</th>\n",
       "      <th>Organic_carbon</th>\n",
       "      <th>Trihalomethanes</th>\n",
       "      <th>Turbidity</th>\n",
       "      <th>Potability</th>\n",
       "    </tr>\n",
       "  </thead>\n",
       "  <tbody>\n",
       "    <tr>\n",
       "      <th>0</th>\n",
       "      <td>5.971861</td>\n",
       "      <td>204.890456</td>\n",
       "      <td>20791.31898</td>\n",
       "      <td>7.300212</td>\n",
       "      <td>368.516441</td>\n",
       "      <td>564.308654</td>\n",
       "      <td>10.379783</td>\n",
       "      <td>86.990970</td>\n",
       "      <td>2.963135</td>\n",
       "      <td>0</td>\n",
       "    </tr>\n",
       "    <tr>\n",
       "      <th>1</th>\n",
       "      <td>3.716080</td>\n",
       "      <td>129.422921</td>\n",
       "      <td>18630.05786</td>\n",
       "      <td>6.635246</td>\n",
       "      <td>252.848888</td>\n",
       "      <td>592.885359</td>\n",
       "      <td>15.180013</td>\n",
       "      <td>56.329076</td>\n",
       "      <td>4.500656</td>\n",
       "      <td>0</td>\n",
       "    </tr>\n",
       "    <tr>\n",
       "      <th>2</th>\n",
       "      <td>8.099124</td>\n",
       "      <td>224.236259</td>\n",
       "      <td>19909.54173</td>\n",
       "      <td>9.275884</td>\n",
       "      <td>252.848888</td>\n",
       "      <td>418.606213</td>\n",
       "      <td>16.868637</td>\n",
       "      <td>66.420093</td>\n",
       "      <td>3.055934</td>\n",
       "      <td>0</td>\n",
       "    </tr>\n",
       "    <tr>\n",
       "      <th>3</th>\n",
       "      <td>8.316766</td>\n",
       "      <td>214.373394</td>\n",
       "      <td>22018.41744</td>\n",
       "      <td>8.059332</td>\n",
       "      <td>356.886136</td>\n",
       "      <td>363.266516</td>\n",
       "      <td>18.436525</td>\n",
       "      <td>100.341674</td>\n",
       "      <td>4.628771</td>\n",
       "      <td>0</td>\n",
       "    </tr>\n",
       "    <tr>\n",
       "      <th>4</th>\n",
       "      <td>9.092223</td>\n",
       "      <td>181.101509</td>\n",
       "      <td>17978.98634</td>\n",
       "      <td>6.546600</td>\n",
       "      <td>310.135738</td>\n",
       "      <td>398.410813</td>\n",
       "      <td>11.558279</td>\n",
       "      <td>31.997993</td>\n",
       "      <td>4.075075</td>\n",
       "      <td>0</td>\n",
       "    </tr>\n",
       "    <tr>\n",
       "      <th>...</th>\n",
       "      <td>...</td>\n",
       "      <td>...</td>\n",
       "      <td>...</td>\n",
       "      <td>...</td>\n",
       "      <td>...</td>\n",
       "      <td>...</td>\n",
       "      <td>...</td>\n",
       "      <td>...</td>\n",
       "      <td>...</td>\n",
       "      <td>...</td>\n",
       "    </tr>\n",
       "    <tr>\n",
       "      <th>2881</th>\n",
       "      <td>6.069616</td>\n",
       "      <td>186.659040</td>\n",
       "      <td>26138.78019</td>\n",
       "      <td>7.747547</td>\n",
       "      <td>345.700257</td>\n",
       "      <td>415.886955</td>\n",
       "      <td>12.067620</td>\n",
       "      <td>60.419921</td>\n",
       "      <td>3.669712</td>\n",
       "      <td>1</td>\n",
       "    </tr>\n",
       "    <tr>\n",
       "      <th>2882</th>\n",
       "      <td>7.808856</td>\n",
       "      <td>193.553212</td>\n",
       "      <td>17329.80216</td>\n",
       "      <td>8.061362</td>\n",
       "      <td>256.321194</td>\n",
       "      <td>392.449580</td>\n",
       "      <td>19.903225</td>\n",
       "      <td>63.676082</td>\n",
       "      <td>2.798243</td>\n",
       "      <td>1</td>\n",
       "    </tr>\n",
       "    <tr>\n",
       "      <th>2883</th>\n",
       "      <td>9.419510</td>\n",
       "      <td>175.762646</td>\n",
       "      <td>33155.57822</td>\n",
       "      <td>7.350233</td>\n",
       "      <td>256.321194</td>\n",
       "      <td>432.044783</td>\n",
       "      <td>11.039070</td>\n",
       "      <td>69.845400</td>\n",
       "      <td>3.298875</td>\n",
       "      <td>1</td>\n",
       "    </tr>\n",
       "    <tr>\n",
       "      <th>2884</th>\n",
       "      <td>5.126763</td>\n",
       "      <td>230.603758</td>\n",
       "      <td>11983.86938</td>\n",
       "      <td>6.303357</td>\n",
       "      <td>256.321194</td>\n",
       "      <td>402.883113</td>\n",
       "      <td>11.168946</td>\n",
       "      <td>77.488213</td>\n",
       "      <td>4.708658</td>\n",
       "      <td>1</td>\n",
       "    </tr>\n",
       "    <tr>\n",
       "      <th>2885</th>\n",
       "      <td>7.874671</td>\n",
       "      <td>195.102299</td>\n",
       "      <td>17404.17706</td>\n",
       "      <td>7.509306</td>\n",
       "      <td>256.321194</td>\n",
       "      <td>327.459761</td>\n",
       "      <td>16.140368</td>\n",
       "      <td>78.698446</td>\n",
       "      <td>2.309149</td>\n",
       "      <td>1</td>\n",
       "    </tr>\n",
       "  </tbody>\n",
       "</table>\n",
       "<p>2886 rows × 10 columns</p>\n",
       "</div>"
      ],
      "text/plain": [
       "            ph    Hardness       Solids  Chloramines     Sulfate  \\\n",
       "0     5.971861  204.890456  20791.31898     7.300212  368.516441   \n",
       "1     3.716080  129.422921  18630.05786     6.635246  252.848888   \n",
       "2     8.099124  224.236259  19909.54173     9.275884  252.848888   \n",
       "3     8.316766  214.373394  22018.41744     8.059332  356.886136   \n",
       "4     9.092223  181.101509  17978.98634     6.546600  310.135738   \n",
       "...        ...         ...          ...          ...         ...   \n",
       "2881  6.069616  186.659040  26138.78019     7.747547  345.700257   \n",
       "2882  7.808856  193.553212  17329.80216     8.061362  256.321194   \n",
       "2883  9.419510  175.762646  33155.57822     7.350233  256.321194   \n",
       "2884  5.126763  230.603758  11983.86938     6.303357  256.321194   \n",
       "2885  7.874671  195.102299  17404.17706     7.509306  256.321194   \n",
       "\n",
       "      Conductivity  Organic_carbon  Trihalomethanes  Turbidity  Potability  \n",
       "0       564.308654       10.379783        86.990970   2.963135           0  \n",
       "1       592.885359       15.180013        56.329076   4.500656           0  \n",
       "2       418.606213       16.868637        66.420093   3.055934           0  \n",
       "3       363.266516       18.436525       100.341674   4.628771           0  \n",
       "4       398.410813       11.558279        31.997993   4.075075           0  \n",
       "...            ...             ...              ...        ...         ...  \n",
       "2881    415.886955       12.067620        60.419921   3.669712           1  \n",
       "2882    392.449580       19.903225        63.676082   2.798243           1  \n",
       "2883    432.044783       11.039070        69.845400   3.298875           1  \n",
       "2884    402.883113       11.168946        77.488213   4.708658           1  \n",
       "2885    327.459761       16.140368        78.698446   2.309149           1  \n",
       "\n",
       "[2886 rows x 10 columns]"
      ]
     },
     "execution_count": 3,
     "metadata": {},
     "output_type": "execute_result"
    }
   ],
   "source": [
    "raw_data"
   ]
  },
  {
   "cell_type": "markdown",
   "id": "d0304941",
   "metadata": {},
   "source": [
    "# Exploring the Dataset"
   ]
  },
  {
   "cell_type": "code",
   "execution_count": 4,
   "id": "40d9f8b1",
   "metadata": {},
   "outputs": [
    {
     "name": "stdout",
     "output_type": "stream",
     "text": [
      "(2886, 10)\n"
     ]
    }
   ],
   "source": [
    "print(raw_data.shape)"
   ]
  },
  {
   "cell_type": "code",
   "execution_count": 5,
   "id": "e378a2f3",
   "metadata": {},
   "outputs": [
    {
     "data": {
      "text/html": [
       "<div>\n",
       "<style scoped>\n",
       "    .dataframe tbody tr th:only-of-type {\n",
       "        vertical-align: middle;\n",
       "    }\n",
       "\n",
       "    .dataframe tbody tr th {\n",
       "        vertical-align: top;\n",
       "    }\n",
       "\n",
       "    .dataframe thead th {\n",
       "        text-align: right;\n",
       "    }\n",
       "</style>\n",
       "<table border=\"1\" class=\"dataframe\">\n",
       "  <thead>\n",
       "    <tr style=\"text-align: right;\">\n",
       "      <th></th>\n",
       "      <th>ph</th>\n",
       "      <th>Hardness</th>\n",
       "      <th>Solids</th>\n",
       "      <th>Chloramines</th>\n",
       "      <th>Sulfate</th>\n",
       "      <th>Conductivity</th>\n",
       "      <th>Organic_carbon</th>\n",
       "      <th>Trihalomethanes</th>\n",
       "      <th>Turbidity</th>\n",
       "      <th>Potability</th>\n",
       "    </tr>\n",
       "  </thead>\n",
       "  <tbody>\n",
       "    <tr>\n",
       "      <th>0</th>\n",
       "      <td>5.971861</td>\n",
       "      <td>204.890456</td>\n",
       "      <td>20791.31898</td>\n",
       "      <td>7.300212</td>\n",
       "      <td>368.516441</td>\n",
       "      <td>564.308654</td>\n",
       "      <td>10.379783</td>\n",
       "      <td>86.990970</td>\n",
       "      <td>2.963135</td>\n",
       "      <td>0</td>\n",
       "    </tr>\n",
       "    <tr>\n",
       "      <th>1</th>\n",
       "      <td>3.716080</td>\n",
       "      <td>129.422921</td>\n",
       "      <td>18630.05786</td>\n",
       "      <td>6.635246</td>\n",
       "      <td>252.848888</td>\n",
       "      <td>592.885359</td>\n",
       "      <td>15.180013</td>\n",
       "      <td>56.329076</td>\n",
       "      <td>4.500656</td>\n",
       "      <td>0</td>\n",
       "    </tr>\n",
       "    <tr>\n",
       "      <th>2</th>\n",
       "      <td>8.099124</td>\n",
       "      <td>224.236259</td>\n",
       "      <td>19909.54173</td>\n",
       "      <td>9.275884</td>\n",
       "      <td>252.848888</td>\n",
       "      <td>418.606213</td>\n",
       "      <td>16.868637</td>\n",
       "      <td>66.420093</td>\n",
       "      <td>3.055934</td>\n",
       "      <td>0</td>\n",
       "    </tr>\n",
       "    <tr>\n",
       "      <th>3</th>\n",
       "      <td>8.316766</td>\n",
       "      <td>214.373394</td>\n",
       "      <td>22018.41744</td>\n",
       "      <td>8.059332</td>\n",
       "      <td>356.886136</td>\n",
       "      <td>363.266516</td>\n",
       "      <td>18.436525</td>\n",
       "      <td>100.341674</td>\n",
       "      <td>4.628771</td>\n",
       "      <td>0</td>\n",
       "    </tr>\n",
       "    <tr>\n",
       "      <th>4</th>\n",
       "      <td>9.092223</td>\n",
       "      <td>181.101509</td>\n",
       "      <td>17978.98634</td>\n",
       "      <td>6.546600</td>\n",
       "      <td>310.135738</td>\n",
       "      <td>398.410813</td>\n",
       "      <td>11.558279</td>\n",
       "      <td>31.997993</td>\n",
       "      <td>4.075075</td>\n",
       "      <td>0</td>\n",
       "    </tr>\n",
       "  </tbody>\n",
       "</table>\n",
       "</div>"
      ],
      "text/plain": [
       "         ph    Hardness       Solids  Chloramines     Sulfate  Conductivity  \\\n",
       "0  5.971861  204.890456  20791.31898     7.300212  368.516441    564.308654   \n",
       "1  3.716080  129.422921  18630.05786     6.635246  252.848888    592.885359   \n",
       "2  8.099124  224.236259  19909.54173     9.275884  252.848888    418.606213   \n",
       "3  8.316766  214.373394  22018.41744     8.059332  356.886136    363.266516   \n",
       "4  9.092223  181.101509  17978.98634     6.546600  310.135738    398.410813   \n",
       "\n",
       "   Organic_carbon  Trihalomethanes  Turbidity  Potability  \n",
       "0       10.379783        86.990970   2.963135           0  \n",
       "1       15.180013        56.329076   4.500656           0  \n",
       "2       16.868637        66.420093   3.055934           0  \n",
       "3       18.436525       100.341674   4.628771           0  \n",
       "4       11.558279        31.997993   4.075075           0  "
      ]
     },
     "execution_count": 5,
     "metadata": {},
     "output_type": "execute_result"
    }
   ],
   "source": [
    "#the first 5 raws of data frame\n",
    "raw_data.head()"
   ]
  },
  {
   "cell_type": "code",
   "execution_count": 6,
   "id": "b5c18931",
   "metadata": {},
   "outputs": [
    {
     "data": {
      "text/plain": [
       "ph                 float64\n",
       "Hardness           float64\n",
       "Solids             float64\n",
       "Chloramines        float64\n",
       "Sulfate            float64\n",
       "Conductivity       float64\n",
       "Organic_carbon     float64\n",
       "Trihalomethanes    float64\n",
       "Turbidity          float64\n",
       "Potability           int64\n",
       "dtype: object"
      ]
     },
     "execution_count": 6,
     "metadata": {},
     "output_type": "execute_result"
    }
   ],
   "source": [
    "# data types of each column\n",
    "raw_data.dtypes"
   ]
  },
  {
   "cell_type": "code",
   "execution_count": 7,
   "id": "3ff7dfe4",
   "metadata": {},
   "outputs": [
    {
     "data": {
      "text/plain": [
       "ph                 0\n",
       "Hardness           0\n",
       "Solids             0\n",
       "Chloramines        0\n",
       "Sulfate            0\n",
       "Conductivity       0\n",
       "Organic_carbon     0\n",
       "Trihalomethanes    0\n",
       "Turbidity          0\n",
       "Potability         0\n",
       "dtype: int64"
      ]
     },
     "execution_count": 7,
     "metadata": {},
     "output_type": "execute_result"
    }
   ],
   "source": [
    "#checking whether there are null values\n",
    "raw_data.isnull().sum()"
   ]
  },
  {
   "cell_type": "markdown",
   "id": "18c73c94",
   "metadata": {},
   "source": [
    "# Data Transformation"
   ]
  },
  {
   "cell_type": "markdown",
   "id": "50097e63",
   "metadata": {},
   "source": [
    "## 01). Split of Input(x) and Output(y) "
   ]
  },
  {
   "cell_type": "code",
   "execution_count": 8,
   "id": "44938dd0",
   "metadata": {},
   "outputs": [],
   "source": [
    "#converting dataframe into numpy array\n",
    "raw_data=raw_data.to_numpy()"
   ]
  },
  {
   "cell_type": "code",
   "execution_count": 9,
   "id": "6b90ad4e",
   "metadata": {},
   "outputs": [],
   "source": [
    "x,y=raw_data[:,:-1],raw_data[:,-1]"
   ]
  },
  {
   "cell_type": "code",
   "execution_count": 10,
   "id": "44c8ddfd",
   "metadata": {},
   "outputs": [
    {
     "name": "stdout",
     "output_type": "stream",
     "text": [
      "[[5.97186050e+00 2.04890456e+02 2.07913190e+04 ... 1.03797831e+01\n",
      "  8.69909705e+01 2.96313538e+00]\n",
      " [3.71608007e+00 1.29422921e+02 1.86300579e+04 ... 1.51800131e+01\n",
      "  5.63290763e+01 4.50065627e+00]\n",
      " [8.09912419e+00 2.24236259e+02 1.99095417e+04 ... 1.68686369e+01\n",
      "  6.64200925e+01 3.05593375e+00]\n",
      " ...\n",
      " [9.41951032e+00 1.75762646e+02 3.31555782e+04 ... 1.10390697e+01\n",
      "  6.98454003e+01 3.29887550e+00]\n",
      " [5.12676292e+00 2.30603758e+02 1.19838694e+04 ... 1.11689462e+01\n",
      "  7.74882131e+01 4.70865847e+00]\n",
      " [7.87467136e+00 1.95102299e+02 1.74041771e+04 ... 1.61403676e+01\n",
      "  7.86984463e+01 2.30914906e+00]]\n",
      "(2886, 9)\n"
     ]
    }
   ],
   "source": [
    "print(x)\n",
    "print(x.shape)"
   ]
  },
  {
   "cell_type": "code",
   "execution_count": 11,
   "id": "7f00ad81",
   "metadata": {},
   "outputs": [
    {
     "name": "stdout",
     "output_type": "stream",
     "text": [
      "[0. 0. 0. ... 1. 1. 1.]\n",
      "(2886,)\n"
     ]
    }
   ],
   "source": [
    "print(y)\n",
    "print(y.shape)"
   ]
  },
  {
   "cell_type": "markdown",
   "id": "b706b137",
   "metadata": {},
   "source": [
    "## 02). Train Set and Test Set Splitting"
   ]
  },
  {
   "cell_type": "code",
   "execution_count": 12,
   "id": "bb4b99e0",
   "metadata": {},
   "outputs": [],
   "source": [
    "x_train,x_test,y_train,y_test=train_test_split(x,y,test_size=0.30)"
   ]
  },
  {
   "cell_type": "code",
   "execution_count": 13,
   "id": "06845381",
   "metadata": {},
   "outputs": [
    {
     "name": "stdout",
     "output_type": "stream",
     "text": [
      "(866, 9)\n",
      "(2020, 9)\n"
     ]
    },
    {
     "data": {
      "text/plain": [
       "array([[5.74406754e+00, 1.73850882e+02, 2.83919982e+04, ...,\n",
       "        1.68951797e+01, 6.54473615e+01, 3.17165521e+00],\n",
       "       [8.96724411e+00, 2.66478743e+02, 3.44467823e+04, ...,\n",
       "        1.42633964e+01, 6.49596701e+01, 3.74225594e+00],\n",
       "       [7.07836107e+00, 1.98412447e+02, 1.66486006e+04, ...,\n",
       "        1.72496164e+01, 5.96308939e+01, 3.26346473e+00],\n",
       "       ...,\n",
       "       [5.57320116e+00, 2.29174986e+02, 1.56131605e+04, ...,\n",
       "        1.07519037e+01, 6.37585161e+01, 3.59962466e+00],\n",
       "       [9.14655756e+00, 2.26093425e+02, 6.78748466e+03, ...,\n",
       "        1.41104762e+01, 8.05711462e+01, 3.21088194e+00],\n",
       "       [6.53209727e+00, 1.63396241e+02, 8.24081271e+03, ...,\n",
       "        1.78961280e+01, 5.50224072e+01, 4.59932404e+00]])"
      ]
     },
     "execution_count": 13,
     "metadata": {},
     "output_type": "execute_result"
    }
   ],
   "source": [
    "print(x_test.shape)\n",
    "print(x_train.shape)\n",
    "x_train"
   ]
  },
  {
   "cell_type": "code",
   "execution_count": 14,
   "id": "e566b90e",
   "metadata": {},
   "outputs": [
    {
     "data": {
      "text/plain": [
       "array([[1.02893796e+01, 1.62780252e+02, 1.88692121e+04, ...,\n",
       "        1.88571411e+01, 7.42937787e+01, 3.50016698e+00],\n",
       "       [7.70036230e+00, 2.20571796e+02, 2.94322082e+04, ...,\n",
       "        1.30274393e+01, 7.78298016e+01, 3.78648699e+00],\n",
       "       [6.09408091e+00, 2.35240587e+02, 1.04437965e+04, ...,\n",
       "        8.28655037e+00, 8.05403515e+01, 3.90050852e+00],\n",
       "       ...,\n",
       "       [5.97186050e+00, 1.72111514e+02, 2.65953735e+04, ...,\n",
       "        7.87773851e+00, 9.33028160e+01, 3.55031114e+00],\n",
       "       [4.66349219e+00, 1.70951830e+02, 4.14526256e+04, ...,\n",
       "        1.62740510e+01, 6.06187542e+01, 3.74229345e+00],\n",
       "       [7.49384386e+00, 1.97331291e+02, 2.66783929e+04, ...,\n",
       "        1.31349166e+01, 6.95908059e+01, 3.81994656e+00]])"
      ]
     },
     "execution_count": 14,
     "metadata": {},
     "output_type": "execute_result"
    }
   ],
   "source": [
    "x_test"
   ]
  },
  {
   "cell_type": "code",
   "execution_count": 15,
   "id": "2d59126d",
   "metadata": {},
   "outputs": [
    {
     "name": "stdout",
     "output_type": "stream",
     "text": [
      "(2020,)\n",
      "(866,)\n"
     ]
    }
   ],
   "source": [
    "print(y_train.shape)\n",
    "print(y_test.shape)\n"
   ]
  },
  {
   "cell_type": "markdown",
   "id": "b3daa8da",
   "metadata": {},
   "source": [
    "## 03). Normalization (Min-Max Scalling)"
   ]
  },
  {
   "cell_type": "code",
   "execution_count": 16,
   "id": "c0faf96d",
   "metadata": {},
   "outputs": [
    {
     "name": "stdout",
     "output_type": "stream",
     "text": [
      "(2020, 9)\n",
      "[[5.74406754e+00 1.73850882e+02 2.83919982e+04 ... 1.68951797e+01\n",
      "  6.54473615e+01 3.17165521e+00]\n",
      " [8.96724411e+00 2.66478743e+02 3.44467823e+04 ... 1.42633964e+01\n",
      "  6.49596701e+01 3.74225594e+00]\n",
      " [7.07836107e+00 1.98412447e+02 1.66486006e+04 ... 1.72496164e+01\n",
      "  5.96308939e+01 3.26346473e+00]\n",
      " ...\n",
      " [5.57320116e+00 2.29174986e+02 1.56131605e+04 ... 1.07519037e+01\n",
      "  6.37585161e+01 3.59962466e+00]\n",
      " [9.14655756e+00 2.26093425e+02 6.78748466e+03 ... 1.41104762e+01\n",
      "  8.05711462e+01 3.21088194e+00]\n",
      " [6.53209727e+00 1.63396241e+02 8.24081271e+03 ... 1.78961280e+01\n",
      "  5.50224072e+01 4.59932404e+00]]\n",
      "[[0.33576036 0.33953432 0.64158154 ... 0.64538835 0.48210075 0.30989665]\n",
      " [0.78547678 0.96213777 0.78200749 ... 0.4958458  0.47587814 0.44601367]\n",
      " [0.52192878 0.50462628 0.36922208 ... 0.66552806 0.40788655 0.33179784]\n",
      " ...\n",
      " [0.31192008 0.71139845 0.34520757 ... 0.29631662 0.46055222 0.41198892]\n",
      " [0.81049564 0.69068555 0.14051755 ... 0.48715661 0.67507004 0.3192542 ]\n",
      " [0.44571087 0.26926286 0.17422395 ... 0.70226399 0.34908537 0.65046759]]\n"
     ]
    }
   ],
   "source": [
    "# rescale all values between 0-1\n",
    "scaler=MinMaxScaler(feature_range=(0,1))\n",
    "x_train_scaled=scaler.fit_transform(x_train)\n",
    "print(x_train_scaled.shape)\n",
    "print(x_train)\n",
    "print(x_train_scaled)"
   ]
  },
  {
   "cell_type": "code",
   "execution_count": 17,
   "id": "de6da780",
   "metadata": {},
   "outputs": [
    {
     "name": "stdout",
     "output_type": "stream",
     "text": [
      "(866, 9)\n",
      "[[1.02893796e+01 1.62780252e+02 1.88692121e+04 ... 1.88571411e+01\n",
      "  7.42937787e+01 3.50016698e+00]\n",
      " [7.70036230e+00 2.20571796e+02 2.94322082e+04 ... 1.30274393e+01\n",
      "  7.78298016e+01 3.78648699e+00]\n",
      " [6.09408091e+00 2.35240587e+02 1.04437965e+04 ... 8.28655037e+00\n",
      "  8.05403515e+01 3.90050852e+00]\n",
      " ...\n",
      " [5.97186050e+00 1.72111514e+02 2.65953735e+04 ... 7.87773851e+00\n",
      "  9.33028160e+01 3.55031114e+00]\n",
      " [4.66349219e+00 1.70951830e+02 4.14526256e+04 ... 1.62740510e+01\n",
      "  6.06187542e+01 3.74229345e+00]\n",
      " [7.49384386e+00 1.97331291e+02 2.66783929e+04 ... 1.31349166e+01\n",
      "  6.95908059e+01 3.81994656e+00]]\n",
      "[[0.9676133  0.26944485 0.42505115 ... 0.75301241 0.60038232 0.38107225]\n",
      " [0.61114332 0.65642147 0.6671122  ... 0.4240649  0.64580849 0.44924451]\n",
      " [0.38998177 0.75464482 0.23197478 ... 0.1565549  0.68063006 0.47639283]\n",
      " ...\n",
      " [0.3731538  0.3319277  0.60210345 ... 0.13348722 0.8445854  0.39301148]\n",
      " [0.19301053 0.32416236 0.94257143 ... 0.60725863 0.42470362 0.43872212]\n",
      " [0.58270874 0.50080126 0.60400591 ... 0.43012943 0.53996472 0.45721117]]\n"
     ]
    }
   ],
   "source": [
    "x_test_scaled=scaler.fit_transform(x_test)\n",
    "print(x_test_scaled.shape)\n",
    "print(x_test)\n",
    "print(x_test_scaled)"
   ]
  },
  {
   "cell_type": "markdown",
   "id": "b6d5064c",
   "metadata": {},
   "source": [
    "# The Model"
   ]
  },
  {
   "cell_type": "markdown",
   "id": "556bf264",
   "metadata": {},
   "source": [
    "## 01). Import Relevant Packages, Classes and Functions"
   ]
  },
  {
   "cell_type": "code",
   "execution_count": 18,
   "id": "d6ffbb2d",
   "metadata": {},
   "outputs": [],
   "source": [
    "from sklearn.linear_model import LogisticRegression"
   ]
  },
  {
   "cell_type": "markdown",
   "id": "425382b2",
   "metadata": {},
   "source": [
    "## 02). Create the Model"
   ]
  },
  {
   "cell_type": "code",
   "execution_count": 19,
   "id": "36f14c53",
   "metadata": {},
   "outputs": [],
   "source": [
    "model=LogisticRegression()"
   ]
  },
  {
   "cell_type": "markdown",
   "id": "426ab52f",
   "metadata": {},
   "source": [
    "## 03). Train the Model"
   ]
  },
  {
   "cell_type": "code",
   "execution_count": 22,
   "id": "12d568ab",
   "metadata": {},
   "outputs": [
    {
     "data": {
      "text/plain": [
       "LogisticRegression()"
      ]
     },
     "execution_count": 22,
     "metadata": {},
     "output_type": "execute_result"
    }
   ],
   "source": [
    "model.fit(x_train_scaled,y_train)"
   ]
  },
  {
   "cell_type": "markdown",
   "id": "7ace23ef",
   "metadata": {},
   "source": [
    "# Evaluate the Model"
   ]
  },
  {
   "cell_type": "code",
   "execution_count": 23,
   "id": "84f93ac8",
   "metadata": {},
   "outputs": [
    {
     "name": "stdout",
     "output_type": "stream",
     "text": [
      "Test Accuarcy: 0.6154734411085451\n"
     ]
    }
   ],
   "source": [
    "test_accuracy=model.score(x_test_scaled,y_test)\n",
    "\n",
    "print(f\"Test Accuarcy: {test_accuracy}\")"
   ]
  }
 ],
 "metadata": {
  "kernelspec": {
   "display_name": "Python 3 (ipykernel)",
   "language": "python",
   "name": "python3"
  },
  "language_info": {
   "codemirror_mode": {
    "name": "ipython",
    "version": 3
   },
   "file_extension": ".py",
   "mimetype": "text/x-python",
   "name": "python",
   "nbconvert_exporter": "python",
   "pygments_lexer": "ipython3",
   "version": "3.11.5"
  }
 },
 "nbformat": 4,
 "nbformat_minor": 5
}
