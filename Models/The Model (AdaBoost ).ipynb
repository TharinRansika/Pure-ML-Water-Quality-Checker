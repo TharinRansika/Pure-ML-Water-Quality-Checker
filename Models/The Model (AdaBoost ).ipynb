{
 "cells": [
  {
   "cell_type": "markdown",
   "id": "54846cb6",
   "metadata": {},
   "source": [
    "# Import Relevant Packages, Classes and Functions"
   ]
  },
  {
   "cell_type": "code",
   "execution_count": 1,
   "id": "a3967f77",
   "metadata": {},
   "outputs": [],
   "source": [
    "import pandas as pd\n",
    "import numpy as np\n",
    "from sklearn.model_selection import train_test_split\n",
    "from sklearn.preprocessing import MinMaxScaler"
   ]
  },
  {
   "cell_type": "markdown",
   "id": "c3f3fdef",
   "metadata": {},
   "source": [
    "# Import Dataset"
   ]
  },
  {
   "cell_type": "code",
   "execution_count": 3,
   "id": "e72fd41f",
   "metadata": {},
   "outputs": [],
   "source": [
    "raw_data=pd.read_csv(\"../Data Preprocessing/Outliers Removed Dataset.csv\",sep=\",\")"
   ]
  },
  {
   "cell_type": "code",
   "execution_count": 4,
   "id": "28f735f4",
   "metadata": {},
   "outputs": [
    {
     "data": {
      "text/html": [
       "<div>\n",
       "<style scoped>\n",
       "    .dataframe tbody tr th:only-of-type {\n",
       "        vertical-align: middle;\n",
       "    }\n",
       "\n",
       "    .dataframe tbody tr th {\n",
       "        vertical-align: top;\n",
       "    }\n",
       "\n",
       "    .dataframe thead th {\n",
       "        text-align: right;\n",
       "    }\n",
       "</style>\n",
       "<table border=\"1\" class=\"dataframe\">\n",
       "  <thead>\n",
       "    <tr style=\"text-align: right;\">\n",
       "      <th></th>\n",
       "      <th>ph</th>\n",
       "      <th>Hardness</th>\n",
       "      <th>Solids</th>\n",
       "      <th>Chloramines</th>\n",
       "      <th>Sulfate</th>\n",
       "      <th>Conductivity</th>\n",
       "      <th>Organic_carbon</th>\n",
       "      <th>Trihalomethanes</th>\n",
       "      <th>Turbidity</th>\n",
       "      <th>Potability</th>\n",
       "    </tr>\n",
       "  </thead>\n",
       "  <tbody>\n",
       "    <tr>\n",
       "      <th>0</th>\n",
       "      <td>5.971861</td>\n",
       "      <td>204.890456</td>\n",
       "      <td>20791.31898</td>\n",
       "      <td>7.300212</td>\n",
       "      <td>368.516441</td>\n",
       "      <td>564.308654</td>\n",
       "      <td>10.379783</td>\n",
       "      <td>86.990970</td>\n",
       "      <td>2.963135</td>\n",
       "      <td>0</td>\n",
       "    </tr>\n",
       "    <tr>\n",
       "      <th>1</th>\n",
       "      <td>3.716080</td>\n",
       "      <td>129.422921</td>\n",
       "      <td>18630.05786</td>\n",
       "      <td>6.635246</td>\n",
       "      <td>252.848888</td>\n",
       "      <td>592.885359</td>\n",
       "      <td>15.180013</td>\n",
       "      <td>56.329076</td>\n",
       "      <td>4.500656</td>\n",
       "      <td>0</td>\n",
       "    </tr>\n",
       "    <tr>\n",
       "      <th>2</th>\n",
       "      <td>8.099124</td>\n",
       "      <td>224.236259</td>\n",
       "      <td>19909.54173</td>\n",
       "      <td>9.275884</td>\n",
       "      <td>252.848888</td>\n",
       "      <td>418.606213</td>\n",
       "      <td>16.868637</td>\n",
       "      <td>66.420093</td>\n",
       "      <td>3.055934</td>\n",
       "      <td>0</td>\n",
       "    </tr>\n",
       "    <tr>\n",
       "      <th>3</th>\n",
       "      <td>8.316766</td>\n",
       "      <td>214.373394</td>\n",
       "      <td>22018.41744</td>\n",
       "      <td>8.059332</td>\n",
       "      <td>356.886136</td>\n",
       "      <td>363.266516</td>\n",
       "      <td>18.436525</td>\n",
       "      <td>100.341674</td>\n",
       "      <td>4.628771</td>\n",
       "      <td>0</td>\n",
       "    </tr>\n",
       "    <tr>\n",
       "      <th>4</th>\n",
       "      <td>9.092223</td>\n",
       "      <td>181.101509</td>\n",
       "      <td>17978.98634</td>\n",
       "      <td>6.546600</td>\n",
       "      <td>310.135738</td>\n",
       "      <td>398.410813</td>\n",
       "      <td>11.558279</td>\n",
       "      <td>31.997993</td>\n",
       "      <td>4.075075</td>\n",
       "      <td>0</td>\n",
       "    </tr>\n",
       "    <tr>\n",
       "      <th>...</th>\n",
       "      <td>...</td>\n",
       "      <td>...</td>\n",
       "      <td>...</td>\n",
       "      <td>...</td>\n",
       "      <td>...</td>\n",
       "      <td>...</td>\n",
       "      <td>...</td>\n",
       "      <td>...</td>\n",
       "      <td>...</td>\n",
       "      <td>...</td>\n",
       "    </tr>\n",
       "    <tr>\n",
       "      <th>2881</th>\n",
       "      <td>6.069616</td>\n",
       "      <td>186.659040</td>\n",
       "      <td>26138.78019</td>\n",
       "      <td>7.747547</td>\n",
       "      <td>345.700257</td>\n",
       "      <td>415.886955</td>\n",
       "      <td>12.067620</td>\n",
       "      <td>60.419921</td>\n",
       "      <td>3.669712</td>\n",
       "      <td>1</td>\n",
       "    </tr>\n",
       "    <tr>\n",
       "      <th>2882</th>\n",
       "      <td>7.808856</td>\n",
       "      <td>193.553212</td>\n",
       "      <td>17329.80216</td>\n",
       "      <td>8.061362</td>\n",
       "      <td>256.321194</td>\n",
       "      <td>392.449580</td>\n",
       "      <td>19.903225</td>\n",
       "      <td>63.676082</td>\n",
       "      <td>2.798243</td>\n",
       "      <td>1</td>\n",
       "    </tr>\n",
       "    <tr>\n",
       "      <th>2883</th>\n",
       "      <td>9.419510</td>\n",
       "      <td>175.762646</td>\n",
       "      <td>33155.57822</td>\n",
       "      <td>7.350233</td>\n",
       "      <td>256.321194</td>\n",
       "      <td>432.044783</td>\n",
       "      <td>11.039070</td>\n",
       "      <td>69.845400</td>\n",
       "      <td>3.298875</td>\n",
       "      <td>1</td>\n",
       "    </tr>\n",
       "    <tr>\n",
       "      <th>2884</th>\n",
       "      <td>5.126763</td>\n",
       "      <td>230.603758</td>\n",
       "      <td>11983.86938</td>\n",
       "      <td>6.303357</td>\n",
       "      <td>256.321194</td>\n",
       "      <td>402.883113</td>\n",
       "      <td>11.168946</td>\n",
       "      <td>77.488213</td>\n",
       "      <td>4.708658</td>\n",
       "      <td>1</td>\n",
       "    </tr>\n",
       "    <tr>\n",
       "      <th>2885</th>\n",
       "      <td>7.874671</td>\n",
       "      <td>195.102299</td>\n",
       "      <td>17404.17706</td>\n",
       "      <td>7.509306</td>\n",
       "      <td>256.321194</td>\n",
       "      <td>327.459761</td>\n",
       "      <td>16.140368</td>\n",
       "      <td>78.698446</td>\n",
       "      <td>2.309149</td>\n",
       "      <td>1</td>\n",
       "    </tr>\n",
       "  </tbody>\n",
       "</table>\n",
       "<p>2886 rows × 10 columns</p>\n",
       "</div>"
      ],
      "text/plain": [
       "            ph    Hardness       Solids  Chloramines     Sulfate  \\\n",
       "0     5.971861  204.890456  20791.31898     7.300212  368.516441   \n",
       "1     3.716080  129.422921  18630.05786     6.635246  252.848888   \n",
       "2     8.099124  224.236259  19909.54173     9.275884  252.848888   \n",
       "3     8.316766  214.373394  22018.41744     8.059332  356.886136   \n",
       "4     9.092223  181.101509  17978.98634     6.546600  310.135738   \n",
       "...        ...         ...          ...          ...         ...   \n",
       "2881  6.069616  186.659040  26138.78019     7.747547  345.700257   \n",
       "2882  7.808856  193.553212  17329.80216     8.061362  256.321194   \n",
       "2883  9.419510  175.762646  33155.57822     7.350233  256.321194   \n",
       "2884  5.126763  230.603758  11983.86938     6.303357  256.321194   \n",
       "2885  7.874671  195.102299  17404.17706     7.509306  256.321194   \n",
       "\n",
       "      Conductivity  Organic_carbon  Trihalomethanes  Turbidity  Potability  \n",
       "0       564.308654       10.379783        86.990970   2.963135           0  \n",
       "1       592.885359       15.180013        56.329076   4.500656           0  \n",
       "2       418.606213       16.868637        66.420093   3.055934           0  \n",
       "3       363.266516       18.436525       100.341674   4.628771           0  \n",
       "4       398.410813       11.558279        31.997993   4.075075           0  \n",
       "...            ...             ...              ...        ...         ...  \n",
       "2881    415.886955       12.067620        60.419921   3.669712           1  \n",
       "2882    392.449580       19.903225        63.676082   2.798243           1  \n",
       "2883    432.044783       11.039070        69.845400   3.298875           1  \n",
       "2884    402.883113       11.168946        77.488213   4.708658           1  \n",
       "2885    327.459761       16.140368        78.698446   2.309149           1  \n",
       "\n",
       "[2886 rows x 10 columns]"
      ]
     },
     "execution_count": 4,
     "metadata": {},
     "output_type": "execute_result"
    }
   ],
   "source": [
    "raw_data"
   ]
  },
  {
   "cell_type": "markdown",
   "id": "d0304941",
   "metadata": {},
   "source": [
    "# Exploring the Dataset"
   ]
  },
  {
   "cell_type": "code",
   "execution_count": 5,
   "id": "40d9f8b1",
   "metadata": {},
   "outputs": [
    {
     "name": "stdout",
     "output_type": "stream",
     "text": [
      "(2886, 10)\n"
     ]
    }
   ],
   "source": [
    "print(raw_data.shape)"
   ]
  },
  {
   "cell_type": "code",
   "execution_count": 6,
   "id": "e378a2f3",
   "metadata": {},
   "outputs": [
    {
     "data": {
      "text/html": [
       "<div>\n",
       "<style scoped>\n",
       "    .dataframe tbody tr th:only-of-type {\n",
       "        vertical-align: middle;\n",
       "    }\n",
       "\n",
       "    .dataframe tbody tr th {\n",
       "        vertical-align: top;\n",
       "    }\n",
       "\n",
       "    .dataframe thead th {\n",
       "        text-align: right;\n",
       "    }\n",
       "</style>\n",
       "<table border=\"1\" class=\"dataframe\">\n",
       "  <thead>\n",
       "    <tr style=\"text-align: right;\">\n",
       "      <th></th>\n",
       "      <th>ph</th>\n",
       "      <th>Hardness</th>\n",
       "      <th>Solids</th>\n",
       "      <th>Chloramines</th>\n",
       "      <th>Sulfate</th>\n",
       "      <th>Conductivity</th>\n",
       "      <th>Organic_carbon</th>\n",
       "      <th>Trihalomethanes</th>\n",
       "      <th>Turbidity</th>\n",
       "      <th>Potability</th>\n",
       "    </tr>\n",
       "  </thead>\n",
       "  <tbody>\n",
       "    <tr>\n",
       "      <th>0</th>\n",
       "      <td>5.971861</td>\n",
       "      <td>204.890456</td>\n",
       "      <td>20791.31898</td>\n",
       "      <td>7.300212</td>\n",
       "      <td>368.516441</td>\n",
       "      <td>564.308654</td>\n",
       "      <td>10.379783</td>\n",
       "      <td>86.990970</td>\n",
       "      <td>2.963135</td>\n",
       "      <td>0</td>\n",
       "    </tr>\n",
       "    <tr>\n",
       "      <th>1</th>\n",
       "      <td>3.716080</td>\n",
       "      <td>129.422921</td>\n",
       "      <td>18630.05786</td>\n",
       "      <td>6.635246</td>\n",
       "      <td>252.848888</td>\n",
       "      <td>592.885359</td>\n",
       "      <td>15.180013</td>\n",
       "      <td>56.329076</td>\n",
       "      <td>4.500656</td>\n",
       "      <td>0</td>\n",
       "    </tr>\n",
       "    <tr>\n",
       "      <th>2</th>\n",
       "      <td>8.099124</td>\n",
       "      <td>224.236259</td>\n",
       "      <td>19909.54173</td>\n",
       "      <td>9.275884</td>\n",
       "      <td>252.848888</td>\n",
       "      <td>418.606213</td>\n",
       "      <td>16.868637</td>\n",
       "      <td>66.420093</td>\n",
       "      <td>3.055934</td>\n",
       "      <td>0</td>\n",
       "    </tr>\n",
       "    <tr>\n",
       "      <th>3</th>\n",
       "      <td>8.316766</td>\n",
       "      <td>214.373394</td>\n",
       "      <td>22018.41744</td>\n",
       "      <td>8.059332</td>\n",
       "      <td>356.886136</td>\n",
       "      <td>363.266516</td>\n",
       "      <td>18.436525</td>\n",
       "      <td>100.341674</td>\n",
       "      <td>4.628771</td>\n",
       "      <td>0</td>\n",
       "    </tr>\n",
       "    <tr>\n",
       "      <th>4</th>\n",
       "      <td>9.092223</td>\n",
       "      <td>181.101509</td>\n",
       "      <td>17978.98634</td>\n",
       "      <td>6.546600</td>\n",
       "      <td>310.135738</td>\n",
       "      <td>398.410813</td>\n",
       "      <td>11.558279</td>\n",
       "      <td>31.997993</td>\n",
       "      <td>4.075075</td>\n",
       "      <td>0</td>\n",
       "    </tr>\n",
       "  </tbody>\n",
       "</table>\n",
       "</div>"
      ],
      "text/plain": [
       "         ph    Hardness       Solids  Chloramines     Sulfate  Conductivity  \\\n",
       "0  5.971861  204.890456  20791.31898     7.300212  368.516441    564.308654   \n",
       "1  3.716080  129.422921  18630.05786     6.635246  252.848888    592.885359   \n",
       "2  8.099124  224.236259  19909.54173     9.275884  252.848888    418.606213   \n",
       "3  8.316766  214.373394  22018.41744     8.059332  356.886136    363.266516   \n",
       "4  9.092223  181.101509  17978.98634     6.546600  310.135738    398.410813   \n",
       "\n",
       "   Organic_carbon  Trihalomethanes  Turbidity  Potability  \n",
       "0       10.379783        86.990970   2.963135           0  \n",
       "1       15.180013        56.329076   4.500656           0  \n",
       "2       16.868637        66.420093   3.055934           0  \n",
       "3       18.436525       100.341674   4.628771           0  \n",
       "4       11.558279        31.997993   4.075075           0  "
      ]
     },
     "execution_count": 6,
     "metadata": {},
     "output_type": "execute_result"
    }
   ],
   "source": [
    "#the first 5 raws of data frame\n",
    "raw_data.head()"
   ]
  },
  {
   "cell_type": "code",
   "execution_count": 7,
   "id": "b5c18931",
   "metadata": {},
   "outputs": [
    {
     "data": {
      "text/plain": [
       "ph                 float64\n",
       "Hardness           float64\n",
       "Solids             float64\n",
       "Chloramines        float64\n",
       "Sulfate            float64\n",
       "Conductivity       float64\n",
       "Organic_carbon     float64\n",
       "Trihalomethanes    float64\n",
       "Turbidity          float64\n",
       "Potability           int64\n",
       "dtype: object"
      ]
     },
     "execution_count": 7,
     "metadata": {},
     "output_type": "execute_result"
    }
   ],
   "source": [
    "# data types of each column\n",
    "raw_data.dtypes"
   ]
  },
  {
   "cell_type": "code",
   "execution_count": 8,
   "id": "3ff7dfe4",
   "metadata": {},
   "outputs": [
    {
     "data": {
      "text/plain": [
       "ph                 0\n",
       "Hardness           0\n",
       "Solids             0\n",
       "Chloramines        0\n",
       "Sulfate            0\n",
       "Conductivity       0\n",
       "Organic_carbon     0\n",
       "Trihalomethanes    0\n",
       "Turbidity          0\n",
       "Potability         0\n",
       "dtype: int64"
      ]
     },
     "execution_count": 8,
     "metadata": {},
     "output_type": "execute_result"
    }
   ],
   "source": [
    "#checking whether there are null values\n",
    "raw_data.isnull().sum()"
   ]
  },
  {
   "cell_type": "markdown",
   "id": "18c73c94",
   "metadata": {},
   "source": [
    "# Data Transformation"
   ]
  },
  {
   "cell_type": "markdown",
   "id": "50097e63",
   "metadata": {},
   "source": [
    "## 01). Split of Input(x) and Output(y) "
   ]
  },
  {
   "cell_type": "code",
   "execution_count": 9,
   "id": "44938dd0",
   "metadata": {},
   "outputs": [],
   "source": [
    "#converting dataframe into numpy array\n",
    "raw_data=raw_data.to_numpy()"
   ]
  },
  {
   "cell_type": "code",
   "execution_count": 10,
   "id": "6b90ad4e",
   "metadata": {},
   "outputs": [],
   "source": [
    "x,y=raw_data[:,:-1],raw_data[:,-1]"
   ]
  },
  {
   "cell_type": "code",
   "execution_count": 11,
   "id": "44c8ddfd",
   "metadata": {},
   "outputs": [
    {
     "name": "stdout",
     "output_type": "stream",
     "text": [
      "[[5.97186050e+00 2.04890456e+02 2.07913190e+04 ... 1.03797831e+01\n",
      "  8.69909705e+01 2.96313538e+00]\n",
      " [3.71608007e+00 1.29422921e+02 1.86300579e+04 ... 1.51800131e+01\n",
      "  5.63290763e+01 4.50065627e+00]\n",
      " [8.09912419e+00 2.24236259e+02 1.99095417e+04 ... 1.68686369e+01\n",
      "  6.64200925e+01 3.05593375e+00]\n",
      " ...\n",
      " [9.41951032e+00 1.75762646e+02 3.31555782e+04 ... 1.10390697e+01\n",
      "  6.98454003e+01 3.29887550e+00]\n",
      " [5.12676292e+00 2.30603758e+02 1.19838694e+04 ... 1.11689462e+01\n",
      "  7.74882131e+01 4.70865847e+00]\n",
      " [7.87467136e+00 1.95102299e+02 1.74041771e+04 ... 1.61403676e+01\n",
      "  7.86984463e+01 2.30914906e+00]]\n",
      "(2886, 9)\n"
     ]
    }
   ],
   "source": [
    "print(x)\n",
    "print(x.shape)"
   ]
  },
  {
   "cell_type": "code",
   "execution_count": 12,
   "id": "7f00ad81",
   "metadata": {},
   "outputs": [
    {
     "name": "stdout",
     "output_type": "stream",
     "text": [
      "[0. 0. 0. ... 1. 1. 1.]\n",
      "(2886,)\n"
     ]
    }
   ],
   "source": [
    "print(y)\n",
    "print(y.shape)"
   ]
  },
  {
   "cell_type": "markdown",
   "id": "b706b137",
   "metadata": {},
   "source": [
    "## 02). Train Set and Test Set Splitting"
   ]
  },
  {
   "cell_type": "code",
   "execution_count": 13,
   "id": "bb4b99e0",
   "metadata": {},
   "outputs": [],
   "source": [
    "x_train,x_test,y_train,y_test=train_test_split(x,y,test_size=0.30)"
   ]
  },
  {
   "cell_type": "code",
   "execution_count": 14,
   "id": "06845381",
   "metadata": {},
   "outputs": [
    {
     "name": "stdout",
     "output_type": "stream",
     "text": [
      "(866, 9)\n",
      "(2020, 9)\n"
     ]
    },
    {
     "data": {
      "text/plain": [
       "array([[5.97186050e+00, 2.22980630e+02, 3.22372454e+04, ...,\n",
       "        9.84243325e+00, 7.72419842e+01, 4.00663157e+00],\n",
       "       [8.04014417e+00, 2.24863482e+02, 6.87976465e+03, ...,\n",
       "        1.24059131e+01, 7.32179902e+01, 3.98645981e+00],\n",
       "       [9.79455870e+00, 1.29870958e+02, 2.06827317e+04, ...,\n",
       "        1.18532281e+01, 7.87114694e+01, 2.94541874e+00],\n",
       "       ...,\n",
       "       [8.55107775e+00, 2.16415932e+02, 2.89092903e+04, ...,\n",
       "        1.62023714e+01, 7.98593229e+01, 4.04637969e+00],\n",
       "       [5.97186050e+00, 2.37677383e+02, 2.60090753e+04, ...,\n",
       "        1.44422383e+01, 7.26962405e+01, 3.70660179e+00],\n",
       "       [5.97186050e+00, 1.90929256e+02, 2.06614111e+04, ...,\n",
       "        9.22598527e+00, 6.00235228e+01, 4.96914973e+00]])"
      ]
     },
     "execution_count": 14,
     "metadata": {},
     "output_type": "execute_result"
    }
   ],
   "source": [
    "print(x_test.shape)\n",
    "print(x_train.shape)\n",
    "x_train"
   ]
  },
  {
   "cell_type": "code",
   "execution_count": 15,
   "id": "e566b90e",
   "metadata": {},
   "outputs": [
    {
     "data": {
      "text/plain": [
       "array([[6.39656993e+00, 2.43724707e+02, 1.22789853e+04, ...,\n",
       "        1.76380395e+01, 6.27527643e+01, 4.18824971e+00],\n",
       "       [7.41328834e+00, 1.96452303e+02, 1.74653456e+04, ...,\n",
       "        1.31780689e+01, 8.06047763e+01, 3.29010591e+00],\n",
       "       [6.14918517e+00, 1.50563593e+02, 2.05963912e+04, ...,\n",
       "        1.28293802e+01, 6.43949066e+01, 4.27561487e+00],\n",
       "       ...,\n",
       "       [7.02550433e+00, 2.05400529e+02, 2.18845385e+04, ...,\n",
       "        1.58437437e+01, 6.55803377e+01, 2.94155512e+00],\n",
       "       [7.83398048e+00, 2.03169408e+02, 1.11742748e+04, ...,\n",
       "        1.62765919e+01, 4.79316388e+01, 4.25447718e+00],\n",
       "       [7.70810999e+00, 1.88997850e+02, 1.54562201e+04, ...,\n",
       "        1.60901935e+01, 5.72857632e+01, 4.89662591e+00]])"
      ]
     },
     "execution_count": 15,
     "metadata": {},
     "output_type": "execute_result"
    }
   ],
   "source": [
    "x_test"
   ]
  },
  {
   "cell_type": "code",
   "execution_count": 16,
   "id": "2d59126d",
   "metadata": {},
   "outputs": [
    {
     "name": "stdout",
     "output_type": "stream",
     "text": [
      "(2020,)\n",
      "(866,)\n"
     ]
    }
   ],
   "source": [
    "print(y_train.shape)\n",
    "print(y_test.shape)\n"
   ]
  },
  {
   "cell_type": "markdown",
   "id": "b3daa8da",
   "metadata": {},
   "source": [
    "## 03). Normalization (Min-Max Scalling)"
   ]
  },
  {
   "cell_type": "code",
   "execution_count": 17,
   "id": "c0faf96d",
   "metadata": {},
   "outputs": [
    {
     "name": "stdout",
     "output_type": "stream",
     "text": [
      "(2020, 9)\n",
      "[[5.97186050e+00 2.22980630e+02 3.22372454e+04 ... 9.84243325e+00\n",
      "  7.72419842e+01 4.00663157e+00]\n",
      " [8.04014417e+00 2.24863482e+02 6.87976465e+03 ... 1.24059131e+01\n",
      "  7.32179902e+01 3.98645981e+00]\n",
      " [9.79455870e+00 1.29870958e+02 2.06827317e+04 ... 1.18532281e+01\n",
      "  7.87114694e+01 2.94541874e+00]\n",
      " ...\n",
      " [8.55107775e+00 2.16415932e+02 2.89092903e+04 ... 1.62023714e+01\n",
      "  7.98593229e+01 4.04637969e+00]\n",
      " [5.97186050e+00 2.37677383e+02 2.60090753e+04 ... 1.44422383e+01\n",
      "  7.26962405e+01 3.70660179e+00]\n",
      " [5.97186050e+00 1.90929256e+02 2.06614111e+04 ... 9.22598527e+00\n",
      "  6.00235228e+01 4.96914973e+00]]\n",
      "[[0.3731538  0.67368526 0.73139228 ... 0.24434734 0.62910106 0.50356204]\n",
      " [0.65792634 0.68631424 0.15030161 ... 0.38899459 0.57726974 0.49874098]\n",
      " [0.89948367 0.04916446 0.46660966 ... 0.35780871 0.64802886 0.2499315 ]\n",
      " ...\n",
      " [0.72827445 0.62965342 0.65512904 ... 0.60321403 0.66281386 0.51306187]\n",
      " [0.3731538  0.77226179 0.58866787 ... 0.50389653 0.57054931 0.43185473]\n",
      " [0.3731538  0.45870491 0.46612108 ... 0.20956357 0.40731754 0.73360449]]\n"
     ]
    }
   ],
   "source": [
    "# rescale all values between 0-1\n",
    "scaler=MinMaxScaler(feature_range=(0,1))\n",
    "x_train_scaled=scaler.fit_transform(x_train)\n",
    "print(x_train_scaled.shape)\n",
    "print(x_train)\n",
    "print(x_train_scaled)"
   ]
  },
  {
   "cell_type": "code",
   "execution_count": 18,
   "id": "de6da780",
   "metadata": {},
   "outputs": [
    {
     "name": "stdout",
     "output_type": "stream",
     "text": [
      "(866, 9)\n",
      "[[6.39656993e+00 2.43724707e+02 1.22789853e+04 ... 1.76380395e+01\n",
      "  6.27527643e+01 4.18824971e+00]\n",
      " [7.41328834e+00 1.96452303e+02 1.74653456e+04 ... 1.31780689e+01\n",
      "  8.06047763e+01 3.29010591e+00]\n",
      " [6.14918517e+00 1.50563593e+02 2.05963912e+04 ... 1.28293802e+01\n",
      "  6.43949066e+01 4.27561487e+00]\n",
      " ...\n",
      " [7.02550433e+00 2.05400529e+02 2.18845385e+04 ... 1.58437437e+01\n",
      "  6.55803377e+01 2.94155512e+00]\n",
      " [7.83398048e+00 2.03169408e+02 1.11742748e+04 ... 1.62765919e+01\n",
      "  4.79316388e+01 4.25447718e+00]\n",
      " [7.70810999e+00 1.88997850e+02 1.54562201e+04 ... 1.60901935e+01\n",
      "  5.72857632e+01 4.89662591e+00]]\n",
      "[[0.43039653 0.80682936 0.25815056 ... 0.74853559 0.46092911 0.54782225]\n",
      " [0.57584944 0.48514537 0.38067753 ... 0.47195308 0.69473744 0.33534739]\n",
      " [0.39500538 0.17287729 0.45464801 ... 0.45032936 0.4824363  0.56849032]\n",
      " ...\n",
      " [0.52037261 0.54603716 0.48508029 ... 0.63726337 0.49796192 0.25289036]\n",
      " [0.63603415 0.5308546  0.23205194 ... 0.6641062  0.2668164  0.56348975]\n",
      " [0.61802697 0.43441856 0.33321225 ... 0.65254681 0.38932764 0.71540357]]\n"
     ]
    }
   ],
   "source": [
    "x_test_scaled=scaler.fit_transform(x_test)\n",
    "print(x_test_scaled.shape)\n",
    "print(x_test)\n",
    "print(x_test_scaled)"
   ]
  },
  {
   "cell_type": "markdown",
   "id": "b6d5064c",
   "metadata": {},
   "source": [
    "# The Model-01"
   ]
  },
  {
   "cell_type": "markdown",
   "id": "556bf264",
   "metadata": {},
   "source": [
    "## 01). Import Relevant Packages, Classes and Functions"
   ]
  },
  {
   "cell_type": "code",
   "execution_count": 110,
   "id": "78a18678",
   "metadata": {},
   "outputs": [],
   "source": [
    "from sklearn.ensemble import AdaBoostClassifier\n",
    "from sklearn import metrics\n",
    "from sklearn.tree import DecisionTreeClassifier"
   ]
  },
  {
   "cell_type": "markdown",
   "id": "425382b2",
   "metadata": {},
   "source": [
    "## 02). Create the Model"
   ]
  },
  {
   "cell_type": "code",
   "execution_count": 186,
   "id": "4fe92a76",
   "metadata": {},
   "outputs": [],
   "source": [
    "#base estimators\n",
    "#create decison tree object\n",
    "dt=DecisionTreeClassifier(max_leaf_nodes=20,random_state=0)"
   ]
  },
  {
   "cell_type": "code",
   "execution_count": 175,
   "id": "cef2fd1a",
   "metadata": {},
   "outputs": [],
   "source": [
    "# Create adaboost classifer object\n",
    "# n_estimators=> Number of week learners\n",
    "abc = AdaBoostClassifier(n_estimators=200,estimator=dt,learning_rate=0.01)"
   ]
  },
  {
   "cell_type": "markdown",
   "id": "426ab52f",
   "metadata": {},
   "source": [
    "## 03). Train the Model"
   ]
  },
  {
   "cell_type": "code",
   "execution_count": 176,
   "id": "611a6cfe",
   "metadata": {},
   "outputs": [],
   "source": [
    "model = abc.fit(x_train_scaled, y_train)"
   ]
  },
  {
   "cell_type": "markdown",
   "id": "069bfe20",
   "metadata": {},
   "source": [
    "## 04). Make Predictions"
   ]
  },
  {
   "cell_type": "code",
   "execution_count": 177,
   "id": "84193559",
   "metadata": {},
   "outputs": [],
   "source": [
    "y_pred = model.predict(x_test_scaled)"
   ]
  },
  {
   "cell_type": "markdown",
   "id": "7ace23ef",
   "metadata": {},
   "source": [
    "# Evaluate the Model"
   ]
  },
  {
   "cell_type": "code",
   "execution_count": 178,
   "id": "2369e8a4",
   "metadata": {},
   "outputs": [],
   "source": [
    "acc=metrics.accuracy_score(y_test, y_pred)"
   ]
  },
  {
   "cell_type": "code",
   "execution_count": 179,
   "id": "d0130d16",
   "metadata": {},
   "outputs": [
    {
     "name": "stdout",
     "output_type": "stream",
     "text": [
      "Accuracy: 0.651270207852194\n"
     ]
    }
   ],
   "source": [
    "print(f\"Accuracy: {acc}\")"
   ]
  },
  {
   "cell_type": "markdown",
   "id": "9f015f16",
   "metadata": {},
   "source": [
    "# The Model-02\n",
    "## 01). Import Relevant Packages, Classes and Functions"
   ]
  },
  {
   "cell_type": "code",
   "execution_count": 180,
   "id": "fd678792",
   "metadata": {},
   "outputs": [],
   "source": [
    "from sklearn.ensemble import RandomForestClassifier"
   ]
  },
  {
   "cell_type": "markdown",
   "id": "f487c09c",
   "metadata": {},
   "source": [
    "## 02). Create the Model"
   ]
  },
  {
   "cell_type": "code",
   "execution_count": 181,
   "id": "3a4ab80b",
   "metadata": {},
   "outputs": [],
   "source": [
    "#base estimator\n",
    "rfc=RandomForestClassifier(n_estimators=100,max_depth=10,random_state=42)"
   ]
  },
  {
   "cell_type": "code",
   "execution_count": 182,
   "id": "b5d2c39e",
   "metadata": {},
   "outputs": [],
   "source": [
    "# Create adaboost classifer object\n",
    "# n_estimators=> Number of week learners\n",
    "abc = AdaBoostClassifier(n_estimators=200,estimator=rfc,learning_rate=0.01)"
   ]
  },
  {
   "cell_type": "markdown",
   "id": "adb971d3",
   "metadata": {},
   "source": [
    "## 03). Train the Model"
   ]
  },
  {
   "cell_type": "code",
   "execution_count": 183,
   "id": "9dc8249b",
   "metadata": {},
   "outputs": [],
   "source": [
    "model = abc.fit(x_train_scaled, y_train)"
   ]
  },
  {
   "cell_type": "markdown",
   "id": "508d0622",
   "metadata": {},
   "source": [
    "## 04). Make Predictions"
   ]
  },
  {
   "cell_type": "code",
   "execution_count": 184,
   "id": "d4d95f20",
   "metadata": {},
   "outputs": [],
   "source": [
    "y_pred = model.predict(x_test_scaled)"
   ]
  },
  {
   "cell_type": "markdown",
   "id": "9a5a0062",
   "metadata": {},
   "source": [
    "# Evaluate the Model"
   ]
  },
  {
   "cell_type": "code",
   "execution_count": 185,
   "id": "9997e605",
   "metadata": {},
   "outputs": [
    {
     "name": "stdout",
     "output_type": "stream",
     "text": [
      "Accuracy: 0.6235565819861432\n"
     ]
    }
   ],
   "source": [
    "acc=metrics.accuracy_score(y_test, y_pred)\n",
    "print(f\"Accuracy: {acc}\")"
   ]
  },
  {
   "cell_type": "code",
   "execution_count": null,
   "id": "2e493482",
   "metadata": {},
   "outputs": [],
   "source": []
  }
 ],
 "metadata": {
  "kernelspec": {
   "display_name": "Python 3 (ipykernel)",
   "language": "python",
   "name": "python3"
  },
  "language_info": {
   "codemirror_mode": {
    "name": "ipython",
    "version": 3
   },
   "file_extension": ".py",
   "mimetype": "text/x-python",
   "name": "python",
   "nbconvert_exporter": "python",
   "pygments_lexer": "ipython3",
   "version": "3.11.5"
  }
 },
 "nbformat": 4,
 "nbformat_minor": 5
}
