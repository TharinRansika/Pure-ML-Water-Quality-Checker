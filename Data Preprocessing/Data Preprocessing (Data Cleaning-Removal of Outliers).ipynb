{
 "cells": [
  {
   "cell_type": "markdown",
   "id": "74758d7f",
   "metadata": {},
   "source": [
    "# Import the Dataset"
   ]
  },
  {
   "cell_type": "markdown",
   "id": "6fdc40c2",
   "metadata": {},
   "source": [
    "### Import the Relavant Libraries"
   ]
  },
  {
   "cell_type": "code",
   "execution_count": 473,
   "id": "a318c3a8",
   "metadata": {},
   "outputs": [],
   "source": [
    "import pandas as pd"
   ]
  },
  {
   "cell_type": "code",
   "execution_count": 474,
   "id": "881f2034",
   "metadata": {},
   "outputs": [],
   "source": [
    "raw_data=pd.read_csv(\"Missing Values Removed Dataset.csv\")"
   ]
  },
  {
   "cell_type": "markdown",
   "id": "57c71040",
   "metadata": {},
   "source": [
    "### Initial Analysis on Dataset"
   ]
  },
  {
   "cell_type": "code",
   "execution_count": 475,
   "id": "fcc918d9",
   "metadata": {},
   "outputs": [
    {
     "data": {
      "text/html": [
       "<div>\n",
       "<style scoped>\n",
       "    .dataframe tbody tr th:only-of-type {\n",
       "        vertical-align: middle;\n",
       "    }\n",
       "\n",
       "    .dataframe tbody tr th {\n",
       "        vertical-align: top;\n",
       "    }\n",
       "\n",
       "    .dataframe thead th {\n",
       "        text-align: right;\n",
       "    }\n",
       "</style>\n",
       "<table border=\"1\" class=\"dataframe\">\n",
       "  <thead>\n",
       "    <tr style=\"text-align: right;\">\n",
       "      <th></th>\n",
       "      <th>ph</th>\n",
       "      <th>Hardness</th>\n",
       "      <th>Solids</th>\n",
       "      <th>Chloramines</th>\n",
       "      <th>Sulfate</th>\n",
       "      <th>Conductivity</th>\n",
       "      <th>Organic_carbon</th>\n",
       "      <th>Trihalomethanes</th>\n",
       "      <th>Turbidity</th>\n",
       "      <th>Potability</th>\n",
       "    </tr>\n",
       "  </thead>\n",
       "  <tbody>\n",
       "    <tr>\n",
       "      <th>0</th>\n",
       "      <td>5.971861</td>\n",
       "      <td>204.890456</td>\n",
       "      <td>20791.31898</td>\n",
       "      <td>7.300212</td>\n",
       "      <td>368.516441</td>\n",
       "      <td>564.308654</td>\n",
       "      <td>10.379783</td>\n",
       "      <td>86.990970</td>\n",
       "      <td>2.963135</td>\n",
       "      <td>0</td>\n",
       "    </tr>\n",
       "    <tr>\n",
       "      <th>1</th>\n",
       "      <td>3.716080</td>\n",
       "      <td>129.422921</td>\n",
       "      <td>18630.05786</td>\n",
       "      <td>6.635246</td>\n",
       "      <td>252.848888</td>\n",
       "      <td>592.885359</td>\n",
       "      <td>15.180013</td>\n",
       "      <td>56.329076</td>\n",
       "      <td>4.500656</td>\n",
       "      <td>0</td>\n",
       "    </tr>\n",
       "    <tr>\n",
       "      <th>2</th>\n",
       "      <td>8.099124</td>\n",
       "      <td>224.236259</td>\n",
       "      <td>19909.54173</td>\n",
       "      <td>9.275884</td>\n",
       "      <td>252.848888</td>\n",
       "      <td>418.606213</td>\n",
       "      <td>16.868637</td>\n",
       "      <td>66.420093</td>\n",
       "      <td>3.055934</td>\n",
       "      <td>0</td>\n",
       "    </tr>\n",
       "    <tr>\n",
       "      <th>3</th>\n",
       "      <td>8.316766</td>\n",
       "      <td>214.373394</td>\n",
       "      <td>22018.41744</td>\n",
       "      <td>8.059332</td>\n",
       "      <td>356.886136</td>\n",
       "      <td>363.266516</td>\n",
       "      <td>18.436525</td>\n",
       "      <td>100.341674</td>\n",
       "      <td>4.628771</td>\n",
       "      <td>0</td>\n",
       "    </tr>\n",
       "    <tr>\n",
       "      <th>4</th>\n",
       "      <td>9.092223</td>\n",
       "      <td>181.101509</td>\n",
       "      <td>17978.98634</td>\n",
       "      <td>6.546600</td>\n",
       "      <td>310.135738</td>\n",
       "      <td>398.410813</td>\n",
       "      <td>11.558279</td>\n",
       "      <td>31.997993</td>\n",
       "      <td>4.075075</td>\n",
       "      <td>0</td>\n",
       "    </tr>\n",
       "  </tbody>\n",
       "</table>\n",
       "</div>"
      ],
      "text/plain": [
       "         ph    Hardness       Solids  Chloramines     Sulfate  Conductivity  \\\n",
       "0  5.971861  204.890456  20791.31898     7.300212  368.516441    564.308654   \n",
       "1  3.716080  129.422921  18630.05786     6.635246  252.848888    592.885359   \n",
       "2  8.099124  224.236259  19909.54173     9.275884  252.848888    418.606213   \n",
       "3  8.316766  214.373394  22018.41744     8.059332  356.886136    363.266516   \n",
       "4  9.092223  181.101509  17978.98634     6.546600  310.135738    398.410813   \n",
       "\n",
       "   Organic_carbon  Trihalomethanes  Turbidity  Potability  \n",
       "0       10.379783        86.990970   2.963135           0  \n",
       "1       15.180013        56.329076   4.500656           0  \n",
       "2       16.868637        66.420093   3.055934           0  \n",
       "3       18.436525       100.341674   4.628771           0  \n",
       "4       11.558279        31.997993   4.075075           0  "
      ]
     },
     "execution_count": 475,
     "metadata": {},
     "output_type": "execute_result"
    }
   ],
   "source": [
    "raw_data.head()"
   ]
  },
  {
   "cell_type": "code",
   "execution_count": 476,
   "id": "cf183445",
   "metadata": {},
   "outputs": [
    {
     "name": "stdout",
     "output_type": "stream",
     "text": [
      "(3276, 10)\n"
     ]
    }
   ],
   "source": [
    "print(raw_data.shape)"
   ]
  },
  {
   "cell_type": "code",
   "execution_count": 477,
   "id": "be8bd9ca",
   "metadata": {},
   "outputs": [
    {
     "data": {
      "text/plain": [
       "ph                 0\n",
       "Hardness           0\n",
       "Solids             0\n",
       "Chloramines        0\n",
       "Sulfate            0\n",
       "Conductivity       0\n",
       "Organic_carbon     0\n",
       "Trihalomethanes    0\n",
       "Turbidity          0\n",
       "Potability         0\n",
       "dtype: int64"
      ]
     },
     "execution_count": 477,
     "metadata": {},
     "output_type": "execute_result"
    }
   ],
   "source": [
    "# check whether there are any missing values\n",
    "raw_data.isnull().sum()"
   ]
  },
  {
   "cell_type": "markdown",
   "id": "5c506acb",
   "metadata": {},
   "source": [
    "# Outliers Detection and Removal"
   ]
  },
  {
   "cell_type": "markdown",
   "id": "7bbf995e",
   "metadata": {},
   "source": [
    "## Import Relavant Libraries"
   ]
  },
  {
   "cell_type": "code",
   "execution_count": 478,
   "id": "ef0ad3fc",
   "metadata": {},
   "outputs": [],
   "source": [
    "import seaborn as sns"
   ]
  },
  {
   "cell_type": "markdown",
   "id": "f04c96c3",
   "metadata": {},
   "source": [
    "## Iteration-01"
   ]
  },
  {
   "cell_type": "markdown",
   "id": "d182642a",
   "metadata": {},
   "source": [
    "### 01). ph"
   ]
  },
  {
   "cell_type": "code",
   "execution_count": 479,
   "id": "bfcf2b3a",
   "metadata": {},
   "outputs": [
    {
     "data": {
      "text/plain": [
       "<AxesSubplot:xlabel='ph'>"
      ]
     },
     "execution_count": 479,
     "metadata": {},
     "output_type": "execute_result"
    },
    {
     "data": {
      "image/png": "[encoded data removed]",
      "text/plain": [
       "<Figure size 640x480 with 1 Axes>"
      ]
     },
     "metadata": {},
     "output_type": "display_data"
    }
   ],
   "source": [
    "sns.boxplot(x=\"ph\",data=raw_data)"
   ]
  },
  {
   "cell_type": "code",
   "execution_count": 480,
   "id": "41700a48",
   "metadata": {},
   "outputs": [
    {
     "name": "stdout",
     "output_type": "stream",
     "text": [
      "1.8981892518994021\n"
     ]
    }
   ],
   "source": [
    "# calculate IQR value\n",
    "phQ1=raw_data.ph.quantile(0.25)\n",
    "phQ3=raw_data.ph.quantile(0.75)\n",
    "phIQR=phQ3-phQ1\n",
    "print(phIQR)"
   ]
  },
  {
   "cell_type": "code",
   "execution_count": 481,
   "id": "e10e5cae",
   "metadata": {},
   "outputs": [],
   "source": [
    "#removal of outliers\n",
    "raw_data=raw_data[~((raw_data.ph < (phQ1-1.5*phIQR)) | (raw_data.ph > (phQ3+1.5*phIQR)))]"
   ]
  },
  {
   "cell_type": "markdown",
   "id": "d711807c",
   "metadata": {},
   "source": [
    "### 02). Hardness"
   ]
  },
  {
   "cell_type": "code",
   "execution_count": 483,
   "id": "4756808f",
   "metadata": {},
   "outputs": [
    {
     "data": {
      "text/plain": [
       "<AxesSubplot:xlabel='Hardness'>"
      ]
     },
     "execution_count": 483,
     "metadata": {},
     "output_type": "execute_result"
    },
    {
     "data": {
      "image/png": "[encoded data removed]",
      "text/plain": [
       "<Figure size 640x480 with 1 Axes>"
      ]
     },
     "metadata": {},
     "output_type": "display_data"
    }
   ],
   "source": [
    "sns.boxplot(x=\"Hardness\",data=raw_data)"
   ]
  },
  {
   "cell_type": "code",
   "execution_count": 484,
   "id": "586ce039",
   "metadata": {},
   "outputs": [
    {
     "name": "stdout",
     "output_type": "stream",
     "text": [
      "39.51692679999999\n"
     ]
    }
   ],
   "source": [
    "# calculate IQR value\n",
    "hardQ1=raw_data.Hardness.quantile(0.25)\n",
    "hardQ3=raw_data.Hardness.quantile(0.75)\n",
    "hardIQR=hardQ3-hardQ1\n",
    "print(hardIQR)"
   ]
  },
  {
   "cell_type": "code",
   "execution_count": 485,
   "id": "a08258fe",
   "metadata": {},
   "outputs": [],
   "source": [
    "#removal of outliers\n",
    "raw_data=raw_data[~((raw_data.Hardness < (hardQ1-1.5*hardIQR)) | (raw_data.Hardness > (hardQ3+1.5*hardIQR)))]"
   ]
  },
  {
   "cell_type": "markdown",
   "id": "47cea205",
   "metadata": {},
   "source": [
    "### 03). Solids"
   ]
  },
  {
   "cell_type": "code",
   "execution_count": 487,
   "id": "648e0815",
   "metadata": {},
   "outputs": [
    {
     "data": {
      "text/plain": [
       "<AxesSubplot:xlabel='Solids'>"
      ]
     },
     "execution_count": 487,
     "metadata": {},
     "output_type": "execute_result"
    },
    {
     "data": {
      "image/png": "[encoded data removed]",
      "text/plain": [
       "<Figure size 640x480 with 1 Axes>"
      ]
     },
     "metadata": {},
     "output_type": "display_data"
    }
   ],
   "source": [
    "sns.boxplot(x=\"Solids\",data=raw_data)"
   ]
  },
  {
   "cell_type": "code",
   "execution_count": 488,
   "id": "71bf8ffa",
   "metadata": {},
   "outputs": [
    {
     "name": "stdout",
     "output_type": "stream",
     "text": [
      "11533.93031\n"
     ]
    }
   ],
   "source": [
    "# calculate IQR value\n",
    "solidQ1=raw_data.Solids.quantile(0.25)\n",
    "solidQ3=raw_data.Solids.quantile(0.75)\n",
    "solidIQR=solidQ3-solidQ1\n",
    "print(solidIQR)"
   ]
  },
  {
   "cell_type": "code",
   "execution_count": 489,
   "id": "ccc9d002",
   "metadata": {},
   "outputs": [],
   "source": [
    "#removal of outliers\n",
    "raw_data=raw_data[~((raw_data.Solids < (solidQ1-1.5*solidIQR)) | (raw_data.Solids > (solidQ3+1.5*solidIQR)))]"
   ]
  },
  {
   "cell_type": "markdown",
   "id": "b5d5e792",
   "metadata": {},
   "source": [
    "### 04). Chloramines"
   ]
  },
  {
   "cell_type": "code",
   "execution_count": 491,
   "id": "fd230b35",
   "metadata": {},
   "outputs": [
    {
     "data": {
      "text/plain": [
       "<AxesSubplot:xlabel='Chloramines'>"
      ]
     },
     "execution_count": 491,
     "metadata": {},
     "output_type": "execute_result"
    },
    {
     "data": {
      "image/png": "[encoded data removed]",
      "text/plain": [
       "<Figure size 640x480 with 1 Axes>"
      ]
     },
     "metadata": {},
     "output_type": "display_data"
    }
   ],
   "source": [
    "sns.boxplot(x=\"Chloramines\",data=raw_data)"
   ]
  },
  {
   "cell_type": "code",
   "execution_count": 492,
   "id": "09aeff90",
   "metadata": {},
   "outputs": [
    {
     "name": "stdout",
     "output_type": "stream",
     "text": [
      "1.97427903\n"
     ]
    }
   ],
   "source": [
    "# calculate IQR value\n",
    "chlQ1=raw_data.Chloramines.quantile(0.25)\n",
    "chlQ3=raw_data.Chloramines.quantile(0.75)\n",
    "chlIQR=chlQ3-chlQ1\n",
    "print(chlIQR)"
   ]
  },
  {
   "cell_type": "code",
   "execution_count": 493,
   "id": "d603b964",
   "metadata": {},
   "outputs": [],
   "source": [
    "#removal of outliers\n",
    "raw_data=raw_data[~((raw_data.Chloramines < (chlQ1-1.5*chlIQR)) | (raw_data.Chloramines > (chlQ3+1.5*chlIQR)))]"
   ]
  },
  {
   "cell_type": "markdown",
   "id": "49c7ce4f",
   "metadata": {},
   "source": [
    "### 05). Sulfate"
   ]
  },
  {
   "cell_type": "code",
   "execution_count": 495,
   "id": "a697432c",
   "metadata": {},
   "outputs": [
    {
     "data": {
      "text/plain": [
       "<AxesSubplot:xlabel='Sulfate'>"
      ]
     },
     "execution_count": 495,
     "metadata": {},
     "output_type": "execute_result"
    },
    {
     "data": {
      "image/png": "[encoded data removed]",
      "text/plain": [
       "<Figure size 640x480 with 1 Axes>"
      ]
     },
     "metadata": {},
     "output_type": "display_data"
    }
   ],
   "source": [
    "sns.boxplot(x=\"Sulfate\",data=raw_data)"
   ]
  },
  {
   "cell_type": "markdown",
   "id": "77fd71f6",
   "metadata": {},
   "source": [
    "### 06). Conductivity"
   ]
  },
  {
   "cell_type": "code",
   "execution_count": 496,
   "id": "c35547a8",
   "metadata": {},
   "outputs": [
    {
     "data": {
      "text/plain": [
       "<AxesSubplot:xlabel='Conductivity'>"
      ]
     },
     "execution_count": 496,
     "metadata": {},
     "output_type": "execute_result"
    },
    {
     "data": {
      "image/png": "[encoded data removed]",
      "text/plain": [
       "<Figure size 640x480 with 1 Axes>"
      ]
     },
     "metadata": {},
     "output_type": "display_data"
    }
   ],
   "source": [
    "sns.boxplot(x=\"Conductivity\",data=raw_data)"
   ]
  },
  {
   "cell_type": "code",
   "execution_count": 497,
   "id": "183d0a43",
   "metadata": {},
   "outputs": [
    {
     "name": "stdout",
     "output_type": "stream",
     "text": [
      "116.13987665000002\n"
     ]
    }
   ],
   "source": [
    "# calculate IQR value\n",
    "conQ1=raw_data.Conductivity.quantile(0.25)\n",
    "conQ3=raw_data.Conductivity.quantile(0.75)\n",
    "conIQR=conQ3-conQ1\n",
    "print(conIQR)"
   ]
  },
  {
   "cell_type": "code",
   "execution_count": 498,
   "id": "70082024",
   "metadata": {},
   "outputs": [],
   "source": [
    "#removal of outliers\n",
    "raw_data=raw_data[~((raw_data.Conductivity < (conQ1-1.5*conIQR)) | (raw_data.Conductivity > (conQ3+1.5*conIQR)))]"
   ]
  },
  {
   "cell_type": "markdown",
   "id": "baeacc66",
   "metadata": {},
   "source": [
    "### 07). Organic Carbon"
   ]
  },
  {
   "cell_type": "code",
   "execution_count": 500,
   "id": "09082531",
   "metadata": {},
   "outputs": [
    {
     "data": {
      "text/plain": [
       "<AxesSubplot:xlabel='Organic_carbon'>"
      ]
     },
     "execution_count": 500,
     "metadata": {},
     "output_type": "execute_result"
    },
    {
     "data": {
      "image/png": "[encoded data removed]",
      "text/plain": [
       "<Figure size 640x480 with 1 Axes>"
      ]
     },
     "metadata": {},
     "output_type": "display_data"
    }
   ],
   "source": [
    "sns.boxplot(x=\"Organic_carbon\",data=raw_data)"
   ]
  },
  {
   "cell_type": "code",
   "execution_count": 501,
   "id": "b26f20bf",
   "metadata": {},
   "outputs": [
    {
     "name": "stdout",
     "output_type": "stream",
     "text": [
      "4.489889569999999\n"
     ]
    }
   ],
   "source": [
    "# calculate IQR value\n",
    "ocQ1=raw_data.Organic_carbon.quantile(0.25)\n",
    "ocQ3=raw_data.Organic_carbon.quantile(0.75)\n",
    "ocIQR=ocQ3-ocQ1\n",
    "print(ocIQR)"
   ]
  },
  {
   "cell_type": "code",
   "execution_count": 502,
   "id": "d8b10414",
   "metadata": {},
   "outputs": [],
   "source": [
    "#removal of outliers\n",
    "raw_data=raw_data[~((raw_data.Organic_carbon < (ocQ1-1.5*ocIQR)) | (raw_data.Organic_carbon > (ocQ3+1.5*ocIQR)))]"
   ]
  },
  {
   "cell_type": "markdown",
   "id": "b50451d2",
   "metadata": {},
   "source": [
    "### 08). Trihalomethanes"
   ]
  },
  {
   "cell_type": "code",
   "execution_count": 504,
   "id": "e907f358",
   "metadata": {},
   "outputs": [
    {
     "data": {
      "text/plain": [
       "<AxesSubplot:xlabel='Trihalomethanes'>"
      ]
     },
     "execution_count": 504,
     "metadata": {},
     "output_type": "execute_result"
    },
    {
     "data": {
      "image/png": "[encoded data removed]",
      "text/plain": [
       "<Figure size 640x480 with 1 Axes>"
      ]
     },
     "metadata": {},
     "output_type": "display_data"
    }
   ],
   "source": [
    "sns.boxplot(x=\"Trihalomethanes\",data=raw_data)"
   ]
  },
  {
   "cell_type": "code",
   "execution_count": 505,
   "id": "8c70a31a",
   "metadata": {},
   "outputs": [
    {
     "name": "stdout",
     "output_type": "stream",
     "text": [
      "20.281640752499996\n"
     ]
    }
   ],
   "source": [
    "# calculate IQR value\n",
    "thmQ1=raw_data.Trihalomethanes.quantile(0.25)\n",
    "thmQ3=raw_data.Trihalomethanes.quantile(0.75)\n",
    "thmIQR=thmQ3-thmQ1\n",
    "print(thmIQR)"
   ]
  },
  {
   "cell_type": "code",
   "execution_count": 506,
   "id": "3b6ebda2",
   "metadata": {},
   "outputs": [],
   "source": [
    "#removal of outliers\n",
    "raw_data=raw_data[~((raw_data.Trihalomethanes < (thmQ1-1.5*thmIQR)) | (raw_data.Trihalomethanes > (thmQ3+1.5*thmIQR)))]"
   ]
  },
  {
   "cell_type": "markdown",
   "id": "0d99fb56",
   "metadata": {},
   "source": [
    "### 09). Turbidity"
   ]
  },
  {
   "cell_type": "code",
   "execution_count": 508,
   "id": "6ef1ca3c",
   "metadata": {},
   "outputs": [
    {
     "data": {
      "text/plain": [
       "<AxesSubplot:xlabel='Turbidity'>"
      ]
     },
     "execution_count": 508,
     "metadata": {},
     "output_type": "execute_result"
    },
    {
     "data": {
      "image/png": "[encoded data removed]",
      "text/plain": [
       "<Figure size 640x480 with 1 Axes>"
      ]
     },
     "metadata": {},
     "output_type": "display_data"
    }
   ],
   "source": [
    "sns.boxplot(x=\"Turbidity\",data=raw_data)"
   ]
  },
  {
   "cell_type": "code",
   "execution_count": 509,
   "id": "78903068",
   "metadata": {},
   "outputs": [
    {
     "name": "stdout",
     "output_type": "stream",
     "text": [
      "1.0710905102500003\n"
     ]
    }
   ],
   "source": [
    "# calculate IQR value\n",
    "turQ1=raw_data.Turbidity.quantile(0.25)\n",
    "turQ3=raw_data.Turbidity.quantile(0.75)\n",
    "turIQR=turQ3-turQ1\n",
    "print(turIQR)"
   ]
  },
  {
   "cell_type": "code",
   "execution_count": 510,
   "id": "d15afcde",
   "metadata": {},
   "outputs": [],
   "source": [
    "#removal of outliers\n",
    "raw_data=raw_data[~((raw_data.Turbidity < (turQ1-1.5*turIQR)) | (raw_data.Turbidity > (turQ3+1.5*turIQR)))]"
   ]
  },
  {
   "cell_type": "markdown",
   "id": "57cfb691",
   "metadata": {},
   "source": [
    "## Iteration-02"
   ]
  },
  {
   "cell_type": "markdown",
   "id": "2b9fe06c",
   "metadata": {},
   "source": [
    "### 01). ph"
   ]
  },
  {
   "cell_type": "code",
   "execution_count": 512,
   "id": "3aa744e6",
   "metadata": {},
   "outputs": [
    {
     "data": {
      "text/plain": [
       "<AxesSubplot:xlabel='ph'>"
      ]
     },
     "execution_count": 512,
     "metadata": {},
     "output_type": "execute_result"
    },
    {
     "data": {
      "image/png": "[encoded data removed]",
      "text/plain": [
       "<Figure size 640x480 with 1 Axes>"
      ]
     },
     "metadata": {},
     "output_type": "display_data"
    }
   ],
   "source": [
    "sns.boxplot(x=\"ph\",data=raw_data)"
   ]
  },
  {
   "cell_type": "code",
   "execution_count": 513,
   "id": "a4b64877",
   "metadata": {},
   "outputs": [
    {
     "name": "stdout",
     "output_type": "stream",
     "text": [
      "1.8337784448994023\n"
     ]
    }
   ],
   "source": [
    "# calculate IQR value\n",
    "phQ1=raw_data.ph.quantile(0.25)\n",
    "phQ3=raw_data.ph.quantile(0.75)\n",
    "phIQR=phQ3-phQ1\n",
    "print(phIQR)"
   ]
  },
  {
   "cell_type": "code",
   "execution_count": 514,
   "id": "bcc36fa1",
   "metadata": {},
   "outputs": [],
   "source": [
    "#removal of outliers\n",
    "raw_data=raw_data[~((raw_data.ph < (phQ1-1.5*phIQR)) | (raw_data.ph > (phQ3+1.5*phIQR)))]"
   ]
  },
  {
   "cell_type": "markdown",
   "id": "3b50dd29",
   "metadata": {},
   "source": [
    "#### 02). Hardness"
   ]
  },
  {
   "cell_type": "code",
   "execution_count": 516,
   "id": "f2a179d6",
   "metadata": {},
   "outputs": [
    {
     "data": {
      "text/plain": [
       "<AxesSubplot:xlabel='Hardness'>"
      ]
     },
     "execution_count": 516,
     "metadata": {},
     "output_type": "execute_result"
    },
    {
     "data": {
      "image/png": "[encoded data removed]",
      "text/plain": [
       "<Figure size 640x480 with 1 Axes>"
      ]
     },
     "metadata": {},
     "output_type": "display_data"
    }
   ],
   "source": [
    "sns.boxplot(x=\"Hardness\",data=raw_data)"
   ]
  },
  {
   "cell_type": "code",
   "execution_count": 517,
   "id": "ade85655",
   "metadata": {},
   "outputs": [
    {
     "name": "stdout",
     "output_type": "stream",
     "text": [
      "37.9174783\n"
     ]
    }
   ],
   "source": [
    "# calculate IQR value\n",
    "hardQ1=raw_data.Hardness.quantile(0.25)\n",
    "hardQ3=raw_data.Hardness.quantile(0.75)\n",
    "hardIQR=hardQ3-hardQ1\n",
    "print(hardIQR)"
   ]
  },
  {
   "cell_type": "code",
   "execution_count": 518,
   "id": "f950d826",
   "metadata": {},
   "outputs": [],
   "source": [
    "#removal of outliers\n",
    "raw_data=raw_data[~((raw_data.Hardness < (hardQ1-1.5*hardIQR)) | (raw_data.Hardness > (hardQ3+1.5*hardIQR)))]"
   ]
  },
  {
   "cell_type": "markdown",
   "id": "14839b66",
   "metadata": {},
   "source": [
    "#### 03). Solids"
   ]
  },
  {
   "cell_type": "code",
   "execution_count": 520,
   "id": "426cbae9",
   "metadata": {},
   "outputs": [
    {
     "data": {
      "text/plain": [
       "<AxesSubplot:xlabel='Solids'>"
      ]
     },
     "execution_count": 520,
     "metadata": {},
     "output_type": "execute_result"
    },
    {
     "data": {
      "image/png": "[encoded data removed]",
      "text/plain": [
       "<Figure size 640x480 with 1 Axes>"
      ]
     },
     "metadata": {},
     "output_type": "display_data"
    }
   ],
   "source": [
    "sns.boxplot(x=\"Solids\",data=raw_data)"
   ]
  },
  {
   "cell_type": "code",
   "execution_count": 521,
   "id": "e0b03139",
   "metadata": {},
   "outputs": [
    {
     "name": "stdout",
     "output_type": "stream",
     "text": [
      "11460.457089999996\n"
     ]
    }
   ],
   "source": [
    "# calculate IQR value\n",
    "solidQ1=raw_data.Solids.quantile(0.25)\n",
    "solidQ3=raw_data.Solids.quantile(0.75)\n",
    "solidIQR=solidQ3-solidQ1\n",
    "print(solidIQR)"
   ]
  },
  {
   "cell_type": "code",
   "execution_count": 522,
   "id": "e13141a8",
   "metadata": {},
   "outputs": [],
   "source": [
    "#removal of outliers\n",
    "raw_data=raw_data[~((raw_data.Solids < (solidQ1-1.5*solidIQR)) | (raw_data.Solids > (solidQ3+1.5*solidIQR)))]"
   ]
  },
  {
   "cell_type": "markdown",
   "id": "9fcda566",
   "metadata": {},
   "source": [
    "#### 04). Chloramines"
   ]
  },
  {
   "cell_type": "code",
   "execution_count": 524,
   "id": "efd7b0b4",
   "metadata": {},
   "outputs": [
    {
     "data": {
      "text/plain": [
       "<AxesSubplot:xlabel='Chloramines'>"
      ]
     },
     "execution_count": 524,
     "metadata": {},
     "output_type": "execute_result"
    },
    {
     "data": {
      "image/png": "[encoded data removed]",
      "text/plain": [
       "<Figure size 640x480 with 1 Axes>"
      ]
     },
     "metadata": {},
     "output_type": "display_data"
    }
   ],
   "source": [
    "sns.boxplot(x=\"Chloramines\",data=raw_data)"
   ]
  },
  {
   "cell_type": "code",
   "execution_count": 525,
   "id": "7d97df4d",
   "metadata": {},
   "outputs": [
    {
     "name": "stdout",
     "output_type": "stream",
     "text": [
      "1.9183079480000007\n"
     ]
    }
   ],
   "source": [
    "# calculate IQR value\n",
    "chlQ1=raw_data.Chloramines.quantile(0.25)\n",
    "chlQ3=raw_data.Chloramines.quantile(0.75)\n",
    "chlIQR=chlQ3-chlQ1\n",
    "print(chlIQR)"
   ]
  },
  {
   "cell_type": "code",
   "execution_count": 526,
   "id": "a8d7de3b",
   "metadata": {},
   "outputs": [],
   "source": [
    "#removal of outliers\n",
    "raw_data=raw_data[~((raw_data.Chloramines < (chlQ1-1.5*chlIQR)) | (raw_data.Chloramines > (chlQ3+1.5*chlIQR)))]"
   ]
  },
  {
   "cell_type": "markdown",
   "id": "05940660",
   "metadata": {},
   "source": [
    "#### 05). Sulfate"
   ]
  },
  {
   "cell_type": "code",
   "execution_count": 528,
   "id": "393764fc",
   "metadata": {},
   "outputs": [
    {
     "data": {
      "text/plain": [
       "<AxesSubplot:xlabel='Sulfate'>"
      ]
     },
     "execution_count": 528,
     "metadata": {},
     "output_type": "execute_result"
    },
    {
     "data": {
      "image/png": "[encoded data removed]",
      "text/plain": [
       "<Figure size 640x480 with 1 Axes>"
      ]
     },
     "metadata": {},
     "output_type": "display_data"
    }
   ],
   "source": [
    "sns.boxplot(x=\"Sulfate\",data=raw_data)"
   ]
  },
  {
   "cell_type": "markdown",
   "id": "b89d48d7",
   "metadata": {},
   "source": [
    "#### 06). Conductivity"
   ]
  },
  {
   "cell_type": "code",
   "execution_count": 529,
   "id": "deb549c7",
   "metadata": {},
   "outputs": [
    {
     "data": {
      "text/plain": [
       "<AxesSubplot:xlabel='Conductivity'>"
      ]
     },
     "execution_count": 529,
     "metadata": {},
     "output_type": "execute_result"
    },
    {
     "data": {
      "image/png": "[encoded data removed]",
      "text/plain": [
       "<Figure size 640x480 with 1 Axes>"
      ]
     },
     "metadata": {},
     "output_type": "display_data"
    }
   ],
   "source": [
    "sns.boxplot(x=\"Conductivity\",data=raw_data)"
   ]
  },
  {
   "cell_type": "markdown",
   "id": "e6fe866f",
   "metadata": {},
   "source": [
    "#### 07). Organic_carbon"
   ]
  },
  {
   "cell_type": "code",
   "execution_count": 530,
   "id": "f8a0a3d4",
   "metadata": {},
   "outputs": [
    {
     "data": {
      "text/plain": [
       "<AxesSubplot:xlabel='Organic_carbon'>"
      ]
     },
     "execution_count": 530,
     "metadata": {},
     "output_type": "execute_result"
    },
    {
     "data": {
      "image/png": "[encoded data removed]",
      "text/plain": [
       "<Figure size 640x480 with 1 Axes>"
      ]
     },
     "metadata": {},
     "output_type": "display_data"
    }
   ],
   "source": [
    "sns.boxplot(x=\"Organic_carbon\",data=raw_data)"
   ]
  },
  {
   "cell_type": "code",
   "execution_count": 531,
   "id": "37972bff",
   "metadata": {},
   "outputs": [
    {
     "name": "stdout",
     "output_type": "stream",
     "text": [
      "4.451165227499999\n"
     ]
    }
   ],
   "source": [
    "# calculate IQR value\n",
    "ocQ1=raw_data.Organic_carbon.quantile(0.25)\n",
    "ocQ3=raw_data.Organic_carbon.quantile(0.75)\n",
    "ocIQR=ocQ3-ocQ1\n",
    "print(ocIQR)"
   ]
  },
  {
   "cell_type": "code",
   "execution_count": 532,
   "id": "17665e15",
   "metadata": {},
   "outputs": [],
   "source": [
    "#removal of outliers\n",
    "raw_data=raw_data[~((raw_data.Organic_carbon < (ocQ1-1.5*ocIQR)) | (raw_data.Organic_carbon > (ocQ3+1.5*ocIQR)))]"
   ]
  },
  {
   "cell_type": "markdown",
   "id": "9892ea60",
   "metadata": {},
   "source": [
    "#### 08). Trihalomithanes"
   ]
  },
  {
   "cell_type": "code",
   "execution_count": 534,
   "id": "14b5c839",
   "metadata": {},
   "outputs": [
    {
     "data": {
      "text/plain": [
       "<AxesSubplot:xlabel='Trihalomethanes'>"
      ]
     },
     "execution_count": 534,
     "metadata": {},
     "output_type": "execute_result"
    },
    {
     "data": {
      "image/png": "[encoded data removed]",
      "text/plain": [
       "<Figure size 640x480 with 1 Axes>"
      ]
     },
     "metadata": {},
     "output_type": "display_data"
    }
   ],
   "source": [
    "sns.boxplot(x=\"Trihalomethanes\",data=raw_data)"
   ]
  },
  {
   "cell_type": "code",
   "execution_count": 535,
   "id": "65358566",
   "metadata": {},
   "outputs": [
    {
     "name": "stdout",
     "output_type": "stream",
     "text": [
      "19.76060601749999\n"
     ]
    }
   ],
   "source": [
    "# calculate IQR value\n",
    "thmQ1=raw_data.Trihalomethanes.quantile(0.25)\n",
    "thmQ3=raw_data.Trihalomethanes.quantile(0.75)\n",
    "thmIQR=thmQ3-thmQ1\n",
    "print(thmIQR)"
   ]
  },
  {
   "cell_type": "code",
   "execution_count": 536,
   "id": "8993f49d",
   "metadata": {},
   "outputs": [],
   "source": [
    "#removal of outliers\n",
    "raw_data=raw_data[~((raw_data.Trihalomethanes < (thmQ1-1.5*thmIQR)) | (raw_data.Trihalomethanes > (thmQ3+1.5*thmIQR)))]"
   ]
  },
  {
   "cell_type": "markdown",
   "id": "ad024992",
   "metadata": {},
   "source": [
    "#### 09). Turbidity"
   ]
  },
  {
   "cell_type": "code",
   "execution_count": 538,
   "id": "0e009d4b",
   "metadata": {},
   "outputs": [
    {
     "data": {
      "text/plain": [
       "<AxesSubplot:xlabel='Turbidity'>"
      ]
     },
     "execution_count": 538,
     "metadata": {},
     "output_type": "execute_result"
    },
    {
     "data": {
      "image/png": "[encoded data removed]",
      "text/plain": [
       "<Figure size 640x480 with 1 Axes>"
      ]
     },
     "metadata": {},
     "output_type": "display_data"
    }
   ],
   "source": [
    "sns.boxplot(x=\"Turbidity\",data=raw_data)"
   ]
  },
  {
   "cell_type": "markdown",
   "id": "1272e8ff",
   "metadata": {},
   "source": [
    "## Iteration-03"
   ]
  },
  {
   "cell_type": "markdown",
   "id": "790423ff",
   "metadata": {},
   "source": [
    "#### 01). ph"
   ]
  },
  {
   "cell_type": "code",
   "execution_count": 541,
   "id": "94cbec69",
   "metadata": {},
   "outputs": [
    {
     "data": {
      "text/plain": [
       "<AxesSubplot:xlabel='ph'>"
      ]
     },
     "execution_count": 541,
     "metadata": {},
     "output_type": "execute_result"
    },
    {
     "data": {
      "image/png": "[encoded data removed]",
      "text/plain": [
       "<Figure size 640x480 with 1 Axes>"
      ]
     },
     "metadata": {},
     "output_type": "display_data"
    }
   ],
   "source": [
    "sns.boxplot(x=\"ph\",data=raw_data)"
   ]
  },
  {
   "cell_type": "code",
   "execution_count": 542,
   "id": "ed19bef0",
   "metadata": {},
   "outputs": [
    {
     "name": "stdout",
     "output_type": "stream",
     "text": [
      "1.8220543003994019\n"
     ]
    }
   ],
   "source": [
    "# calculate IQR value\n",
    "phQ1=raw_data.ph.quantile(0.25)\n",
    "phQ3=raw_data.ph.quantile(0.75)\n",
    "phIQR=phQ3-phQ1\n",
    "print(phIQR)"
   ]
  },
  {
   "cell_type": "code",
   "execution_count": 543,
   "id": "c59105be",
   "metadata": {},
   "outputs": [],
   "source": [
    "#removal of outliers\n",
    "raw_data=raw_data[~((raw_data.ph < (phQ1-1.5*phIQR)) | (raw_data.ph > (phQ3+1.5*phIQR)))]"
   ]
  },
  {
   "cell_type": "markdown",
   "id": "7b766802",
   "metadata": {},
   "source": [
    "#### 02). Hardness"
   ]
  },
  {
   "cell_type": "code",
   "execution_count": 545,
   "id": "331af412",
   "metadata": {},
   "outputs": [
    {
     "data": {
      "text/plain": [
       "<AxesSubplot:xlabel='Hardness'>"
      ]
     },
     "execution_count": 545,
     "metadata": {},
     "output_type": "execute_result"
    },
    {
     "data": {
      "image/png": "[encoded data removed]",
      "text/plain": [
       "<Figure size 640x480 with 1 Axes>"
      ]
     },
     "metadata": {},
     "output_type": "display_data"
    }
   ],
   "source": [
    "sns.boxplot(x=\"Hardness\",data=raw_data)"
   ]
  },
  {
   "cell_type": "code",
   "execution_count": 546,
   "id": "ee3003fa",
   "metadata": {},
   "outputs": [
    {
     "name": "stdout",
     "output_type": "stream",
     "text": [
      "37.65257604999999\n"
     ]
    }
   ],
   "source": [
    "# calculate IQR value\n",
    "hardQ1=raw_data.Hardness.quantile(0.25)\n",
    "hardQ3=raw_data.Hardness.quantile(0.75)\n",
    "hardIQR=hardQ3-hardQ1\n",
    "print(hardIQR)"
   ]
  },
  {
   "cell_type": "code",
   "execution_count": 547,
   "id": "634d5749",
   "metadata": {},
   "outputs": [],
   "source": [
    "#removal of outliers\n",
    "raw_data=raw_data[~((raw_data.Hardness < (hardQ1-1.5*hardIQR)) | (raw_data.Hardness > (hardQ3+1.5*hardIQR)))]"
   ]
  },
  {
   "cell_type": "markdown",
   "id": "147b754a",
   "metadata": {},
   "source": [
    "#### 03). Solids"
   ]
  },
  {
   "cell_type": "code",
   "execution_count": 549,
   "id": "f1675bd7",
   "metadata": {},
   "outputs": [
    {
     "data": {
      "text/plain": [
       "<AxesSubplot:xlabel='Solids'>"
      ]
     },
     "execution_count": 549,
     "metadata": {},
     "output_type": "execute_result"
    },
    {
     "data": {
      "image/png": "[encoded data removed]",
      "text/plain": [
       "<Figure size 640x480 with 1 Axes>"
      ]
     },
     "metadata": {},
     "output_type": "display_data"
    }
   ],
   "source": [
    "sns.boxplot(x=\"Solids\",data=raw_data)"
   ]
  },
  {
   "cell_type": "code",
   "execution_count": 550,
   "id": "5d2d806e",
   "metadata": {},
   "outputs": [
    {
     "name": "stdout",
     "output_type": "stream",
     "text": [
      "11413.461955\n"
     ]
    }
   ],
   "source": [
    "# calculate IQR value\n",
    "solidQ1=raw_data.Solids.quantile(0.25)\n",
    "solidQ3=raw_data.Solids.quantile(0.75)\n",
    "solidIQR=solidQ3-solidQ1\n",
    "print(solidIQR)"
   ]
  },
  {
   "cell_type": "code",
   "execution_count": 551,
   "id": "97baf09f",
   "metadata": {},
   "outputs": [],
   "source": [
    "#removal of outliers\n",
    "raw_data=raw_data[~((raw_data.Solids < (solidQ1-1.5*solidIQR)) | (raw_data.Solids > (solidQ3+1.5*solidIQR)))]"
   ]
  },
  {
   "cell_type": "markdown",
   "id": "bbca01cb",
   "metadata": {},
   "source": [
    "#### 04). Chloramines"
   ]
  },
  {
   "cell_type": "code",
   "execution_count": 553,
   "id": "c54067a0",
   "metadata": {},
   "outputs": [
    {
     "data": {
      "text/plain": [
       "<AxesSubplot:xlabel='Chloramines'>"
      ]
     },
     "execution_count": 553,
     "metadata": {},
     "output_type": "execute_result"
    },
    {
     "data": {
      "image/png": "[encoded data removed]",
      "text/plain": [
       "<Figure size 640x480 with 1 Axes>"
      ]
     },
     "metadata": {},
     "output_type": "display_data"
    }
   ],
   "source": [
    "sns.boxplot(x=\"Chloramines\",data=raw_data)"
   ]
  },
  {
   "cell_type": "markdown",
   "id": "20e0af17",
   "metadata": {},
   "source": [
    "#### 05). Sulfate"
   ]
  },
  {
   "cell_type": "code",
   "execution_count": 554,
   "id": "ce0d0901",
   "metadata": {},
   "outputs": [
    {
     "data": {
      "text/plain": [
       "<AxesSubplot:xlabel='Sulfate'>"
      ]
     },
     "execution_count": 554,
     "metadata": {},
     "output_type": "execute_result"
    },
    {
     "data": {
      "image/png": "[encoded data removed]",
      "text/plain": [
       "<Figure size 640x480 with 1 Axes>"
      ]
     },
     "metadata": {},
     "output_type": "display_data"
    }
   ],
   "source": [
    "sns.boxplot(x=\"Sulfate\",data=raw_data)"
   ]
  },
  {
   "cell_type": "markdown",
   "id": "d8585dda",
   "metadata": {},
   "source": [
    "#### 06). Conductivity"
   ]
  },
  {
   "cell_type": "code",
   "execution_count": 555,
   "id": "a7ed53af",
   "metadata": {},
   "outputs": [
    {
     "data": {
      "text/plain": [
       "<AxesSubplot:xlabel='Conductivity'>"
      ]
     },
     "execution_count": 555,
     "metadata": {},
     "output_type": "execute_result"
    },
    {
     "data": {
      "image/png": "[encoded data removed]",
      "text/plain": [
       "<Figure size 640x480 with 1 Axes>"
      ]
     },
     "metadata": {},
     "output_type": "display_data"
    }
   ],
   "source": [
    "sns.boxplot(x=\"Conductivity\",data=raw_data)"
   ]
  },
  {
   "cell_type": "markdown",
   "id": "e0a705df",
   "metadata": {},
   "source": [
    "#### 07). Organic Carbon"
   ]
  },
  {
   "cell_type": "code",
   "execution_count": 556,
   "id": "e36ed69f",
   "metadata": {},
   "outputs": [
    {
     "data": {
      "text/plain": [
       "<AxesSubplot:xlabel='Organic_carbon'>"
      ]
     },
     "execution_count": 556,
     "metadata": {},
     "output_type": "execute_result"
    },
    {
     "data": {
      "image/png": "[encoded data removed]",
      "text/plain": [
       "<Figure size 640x480 with 1 Axes>"
      ]
     },
     "metadata": {},
     "output_type": "display_data"
    }
   ],
   "source": [
    "sns.boxplot(x=\"Organic_carbon\",data=raw_data)"
   ]
  },
  {
   "cell_type": "markdown",
   "id": "0a66b099",
   "metadata": {},
   "source": [
    "#### 08). Trihalomethanes"
   ]
  },
  {
   "cell_type": "code",
   "execution_count": 560,
   "id": "35936253",
   "metadata": {},
   "outputs": [
    {
     "data": {
      "text/plain": [
       "<AxesSubplot:xlabel='Trihalomethanes'>"
      ]
     },
     "execution_count": 560,
     "metadata": {},
     "output_type": "execute_result"
    },
    {
     "data": {
      "image/png": "[encoded data removed]",
      "text/plain": [
       "<Figure size 640x480 with 1 Axes>"
      ]
     },
     "metadata": {},
     "output_type": "display_data"
    }
   ],
   "source": [
    "sns.boxplot(x=\"Trihalomethanes\",data=raw_data)"
   ]
  },
  {
   "cell_type": "markdown",
   "id": "722bbf25",
   "metadata": {},
   "source": [
    "#### 09). Turbidity"
   ]
  },
  {
   "cell_type": "code",
   "execution_count": 561,
   "id": "3724a6af",
   "metadata": {},
   "outputs": [
    {
     "data": {
      "text/plain": [
       "<AxesSubplot:xlabel='Turbidity'>"
      ]
     },
     "execution_count": 561,
     "metadata": {},
     "output_type": "execute_result"
    },
    {
     "data": {
      "image/png": "[encoded data removed]",
      "text/plain": [
       "<Figure size 640x480 with 1 Axes>"
      ]
     },
     "metadata": {},
     "output_type": "display_data"
    }
   ],
   "source": [
    "sns.boxplot(x=\"Turbidity\",data=raw_data)"
   ]
  },
  {
   "cell_type": "markdown",
   "id": "1883d0c8",
   "metadata": {},
   "source": [
    "## Iteration-04"
   ]
  },
  {
   "cell_type": "markdown",
   "id": "2ca6b761",
   "metadata": {},
   "source": [
    "#### 01). ph"
   ]
  },
  {
   "cell_type": "code",
   "execution_count": 564,
   "id": "37c7f0d8",
   "metadata": {},
   "outputs": [
    {
     "data": {
      "text/plain": [
       "<AxesSubplot:xlabel='ph'>"
      ]
     },
     "execution_count": 564,
     "metadata": {},
     "output_type": "execute_result"
    },
    {
     "data": {
      "image/png": "[encoded data removed]",
      "text/plain": [
       "<Figure size 640x480 with 1 Axes>"
      ]
     },
     "metadata": {},
     "output_type": "display_data"
    }
   ],
   "source": [
    "sns.boxplot(x=\"ph\",data=raw_data)"
   ]
  },
  {
   "cell_type": "markdown",
   "id": "a897c654",
   "metadata": {},
   "source": [
    "#### 02). Hardness"
   ]
  },
  {
   "cell_type": "code",
   "execution_count": 565,
   "id": "60bda2f8",
   "metadata": {},
   "outputs": [
    {
     "data": {
      "text/plain": [
       "<AxesSubplot:xlabel='Hardness'>"
      ]
     },
     "execution_count": 565,
     "metadata": {},
     "output_type": "execute_result"
    },
    {
     "data": {
      "image/png": "[encoded data removed]",
      "text/plain": [
       "<Figure size 640x480 with 1 Axes>"
      ]
     },
     "metadata": {},
     "output_type": "display_data"
    }
   ],
   "source": [
    "sns.boxplot(x=\"Hardness\",data=raw_data)"
   ]
  },
  {
   "cell_type": "markdown",
   "id": "2866507c",
   "metadata": {},
   "source": [
    "#### 03). Solids"
   ]
  },
  {
   "cell_type": "code",
   "execution_count": 566,
   "id": "cf71ac26",
   "metadata": {},
   "outputs": [
    {
     "data": {
      "text/plain": [
       "<AxesSubplot:xlabel='Solids'>"
      ]
     },
     "execution_count": 566,
     "metadata": {},
     "output_type": "execute_result"
    },
    {
     "data": {
      "image/png": "[encoded data removed]",
      "text/plain": [
       "<Figure size 640x480 with 1 Axes>"
      ]
     },
     "metadata": {},
     "output_type": "display_data"
    }
   ],
   "source": [
    "sns.boxplot(x=\"Solids\",data=raw_data)"
   ]
  },
  {
   "cell_type": "markdown",
   "id": "034029ee",
   "metadata": {},
   "source": [
    "#### 04). Chloramines"
   ]
  },
  {
   "cell_type": "code",
   "execution_count": 574,
   "id": "6ce9fb56",
   "metadata": {},
   "outputs": [
    {
     "data": {
      "text/plain": [
       "<AxesSubplot:xlabel='Chloramines'>"
      ]
     },
     "execution_count": 574,
     "metadata": {},
     "output_type": "execute_result"
    },
    {
     "data": {
      "image/png": "[encoded data removed]",
      "text/plain": [
       "<Figure size 640x480 with 1 Axes>"
      ]
     },
     "metadata": {},
     "output_type": "display_data"
    }
   ],
   "source": [
    "sns.boxplot(x=\"Chloramines\",data=raw_data)"
   ]
  },
  {
   "cell_type": "markdown",
   "id": "5ddec0b8",
   "metadata": {},
   "source": [
    "#### 05). Sulfate"
   ]
  },
  {
   "cell_type": "code",
   "execution_count": 567,
   "id": "452a04ff",
   "metadata": {},
   "outputs": [
    {
     "data": {
      "text/plain": [
       "<AxesSubplot:xlabel='Sulfate'>"
      ]
     },
     "execution_count": 567,
     "metadata": {},
     "output_type": "execute_result"
    },
    {
     "data": {
      "image/png": "[encoded data removed]",
      "text/plain": [
       "<Figure size 640x480 with 1 Axes>"
      ]
     },
     "metadata": {},
     "output_type": "display_data"
    }
   ],
   "source": [
    "sns.boxplot(x=\"Sulfate\",data=raw_data)"
   ]
  },
  {
   "cell_type": "markdown",
   "id": "32bb20cd",
   "metadata": {},
   "source": [
    "#### 06). Conductivity"
   ]
  },
  {
   "cell_type": "code",
   "execution_count": 568,
   "id": "a457c647",
   "metadata": {},
   "outputs": [
    {
     "data": {
      "text/plain": [
       "<AxesSubplot:xlabel='Conductivity'>"
      ]
     },
     "execution_count": 568,
     "metadata": {},
     "output_type": "execute_result"
    },
    {
     "data": {
      "image/png": "[encoded data removed]",
      "text/plain": [
       "<Figure size 640x480 with 1 Axes>"
      ]
     },
     "metadata": {},
     "output_type": "display_data"
    }
   ],
   "source": [
    "sns.boxplot(x=\"Conductivity\",data=raw_data)"
   ]
  },
  {
   "cell_type": "markdown",
   "id": "9c081973",
   "metadata": {},
   "source": [
    "#### 07). Organic Carbon"
   ]
  },
  {
   "cell_type": "code",
   "execution_count": 569,
   "id": "b780d0ed",
   "metadata": {},
   "outputs": [
    {
     "data": {
      "text/plain": [
       "<AxesSubplot:xlabel='Organic_carbon'>"
      ]
     },
     "execution_count": 569,
     "metadata": {},
     "output_type": "execute_result"
    },
    {
     "data": {
      "image/png": "[encoded data removed]",
      "text/plain": [
       "<Figure size 640x480 with 1 Axes>"
      ]
     },
     "metadata": {},
     "output_type": "display_data"
    }
   ],
   "source": [
    "sns.boxplot(x=\"Organic_carbon\",data=raw_data)"
   ]
  },
  {
   "cell_type": "markdown",
   "id": "107ec319",
   "metadata": {},
   "source": [
    "#### 08). Trihalomethanes"
   ]
  },
  {
   "cell_type": "code",
   "execution_count": 570,
   "id": "2a87c909",
   "metadata": {},
   "outputs": [
    {
     "data": {
      "text/plain": [
       "<AxesSubplot:xlabel='Trihalomethanes'>"
      ]
     },
     "execution_count": 570,
     "metadata": {},
     "output_type": "execute_result"
    },
    {
     "data": {
      "image/png": "[encoded data removed]",
      "text/plain": [
       "<Figure size 640x480 with 1 Axes>"
      ]
     },
     "metadata": {},
     "output_type": "display_data"
    }
   ],
   "source": [
    "sns.boxplot(x=\"Trihalomethanes\",data=raw_data)"
   ]
  },
  {
   "cell_type": "markdown",
   "id": "f283a972",
   "metadata": {},
   "source": [
    "#### 09). Turbidity"
   ]
  },
  {
   "cell_type": "code",
   "execution_count": 571,
   "id": "38bfebba",
   "metadata": {},
   "outputs": [
    {
     "data": {
      "text/plain": [
       "<AxesSubplot:xlabel='Turbidity'>"
      ]
     },
     "execution_count": 571,
     "metadata": {},
     "output_type": "execute_result"
    },
    {
     "data": {
      "image/png": "[encoded data removed]",
      "text/plain": [
       "<Figure size 640x480 with 1 Axes>"
      ]
     },
     "metadata": {},
     "output_type": "display_data"
    }
   ],
   "source": [
    "sns.boxplot(x=\"Turbidity\",data=raw_data)"
   ]
  },
  {
   "cell_type": "markdown",
   "id": "32686176",
   "metadata": {},
   "source": [
    "## Total Number of Removed Rows since Outliers"
   ]
  },
  {
   "cell_type": "code",
   "execution_count": 572,
   "id": "588753a3",
   "metadata": {},
   "outputs": [
    {
     "data": {
      "text/plain": [
       "(2886, 10)"
      ]
     },
     "execution_count": 572,
     "metadata": {},
     "output_type": "execute_result"
    }
   ],
   "source": [
    "raw_data.shape"
   ]
  },
  {
   "cell_type": "code",
   "execution_count": 573,
   "id": "db862844",
   "metadata": {},
   "outputs": [
    {
     "name": "stdout",
     "output_type": "stream",
     "text": [
      "Total Number of Removed Rows: 390\n"
     ]
    }
   ],
   "source": [
    "print(f\"Total Number of Removed Rows: {3276-2886}\")"
   ]
  },
  {
   "cell_type": "markdown",
   "id": "1c9b72ca",
   "metadata": {},
   "source": [
    "## Convert Missing Value Removed Dataset into Outliers Removed Dataset"
   ]
  },
  {
   "cell_type": "code",
   "execution_count": 575,
   "id": "9a4116b8",
   "metadata": {},
   "outputs": [],
   "source": [
    "raw_data.to_csv(\"Outliers Removed Dataset.csv\",index=False)"
   ]
  },
  {
   "cell_type": "code",
   "execution_count": null,
   "id": "fe71f619",
   "metadata": {},
   "outputs": [],
   "source": []
  }
 ],
 "metadata": {
  "kernelspec": {
   "display_name": "Python 3 (ipykernel)",
   "language": "python",
   "name": "python3"
  },
  "language_info": {
   "codemirror_mode": {
    "name": "ipython",
    "version": 3
   },
   "file_extension": ".py",
   "mimetype": "text/x-python",
   "name": "python",
   "nbconvert_exporter": "python",
   "pygments_lexer": "ipython3",
   "version": "3.11.5"
  }
 },
 "nbformat": 4,
 "nbformat_minor": 5
}
